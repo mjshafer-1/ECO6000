{
  "nbformat": 4,
  "nbformat_minor": 0,
  "metadata": {
    "colab": {
      "name": "HackerNews.ipynb",
      "provenance": [],
      "collapsed_sections": [],
      "authorship_tag": "ABX9TyNP0IbOPbffWC1q5LU8Aq6o",
      "include_colab_link": true
    },
    "kernelspec": {
      "name": "python3",
      "display_name": "Python 3"
    }
  },
  "cells": [
    {
      "cell_type": "markdown",
      "metadata": {
        "id": "view-in-github",
        "colab_type": "text"
      },
      "source": [
        "<a href=\"https://colab.research.google.com/github/mjshafer-1/ECO6100/blob/master/HackerNews.ipynb\" target=\"_parent\"><img src=\"https://colab.research.google.com/assets/colab-badge.svg\" alt=\"Open In Colab\"/></a>"
      ]
    },
    {
      "cell_type": "markdown",
      "metadata": {
        "id": "dixMFZaQ0NJx",
        "colab_type": "text"
      },
      "source": [
        "# Exploring Hacker News Posts #\n",
        "\n",
        "The site Hacker News, created by Y Combinator, is a news site that collects stories from users specifically within tech and startup circles. These stories are voted and commented on by thousands of users and promoted on the site accordingly. The data we are using can be found [here](https://www.kaggle.com/hacker-news/hacker-news-posts). "
      ]
    },
    {
      "cell_type": "code",
      "metadata": {
        "id": "O1BcAZswmrna",
        "colab_type": "code",
        "colab": {
          "base_uri": "https://localhost:8080/",
          "height": 622
        },
        "outputId": "8e259838-cf98-4014-fcba-119f2c47571e"
      },
      "source": [
        "import pandas as pd\n",
        "\n",
        "path = 'https://github.com/mjshafer-1/ECO6100/raw/master/197_419_bundle_archive.zip'\n",
        "df = pd.read_csv(path, compression='zip')\n",
        "\n",
        "headers = list(df)                 \n",
        "hn = df.values.tolist()\n",
        "# code above removes list automatically\n",
        "# data in different order to what shown in dataquest\n",
        "print(headers)\n",
        "hn[:5]\n",
        "# end result should be the same as page 2/8 on dataquest"
      ],
      "execution_count": 16,
      "outputs": [
        {
          "output_type": "stream",
          "text": [
            "['id', 'title', 'url', 'num_points', 'num_comments', 'author', 'created_at']\n"
          ],
          "name": "stdout"
        },
        {
          "output_type": "execute_result",
          "data": {
            "text/plain": [
              "[[12579008,\n",
              "  'You have two days to comment if you want stem cells to be classified as your own',\n",
              "  'http://www.regulations.gov/document?D=FDA-2015-D-3719-0018',\n",
              "  1,\n",
              "  0,\n",
              "  'altstar',\n",
              "  '9/26/2016 3:26'],\n",
              " [12579005,\n",
              "  'SQLAR  the SQLite Archiver',\n",
              "  'https://www.sqlite.org/sqlar/doc/trunk/README.md',\n",
              "  1,\n",
              "  0,\n",
              "  'blacksqr',\n",
              "  '9/26/2016 3:24'],\n",
              " [12578997,\n",
              "  'What if we just printed a flatscreen television on the side of our boxes?',\n",
              "  'https://medium.com/vanmoof/our-secrets-out-f21c1f03fdc8#.ietxmez43',\n",
              "  1,\n",
              "  0,\n",
              "  'pavel_lishin',\n",
              "  '9/26/2016 3:19'],\n",
              " [12578989,\n",
              "  'algorithmic music',\n",
              "  'http://cacm.acm.org/magazines/2011/7/109891-algorithmic-composition/fulltext',\n",
              "  1,\n",
              "  0,\n",
              "  'poindontcare',\n",
              "  '9/26/2016 3:16'],\n",
              " [12578979,\n",
              "  'How the Data Vault Enables the Next-Gen Data Warehouse and Data Lake',\n",
              "  'https://www.talend.com/blog/2016/05/12/talend-and-Â\\x93the-data-vaultÂ\\x94',\n",
              "  1,\n",
              "  0,\n",
              "  'markgainor1',\n",
              "  '9/26/2016 3:14']]"
            ]
          },
          "metadata": {
            "tags": []
          },
          "execution_count": 16
        }
      ]
    },
    {
      "cell_type": "code",
      "metadata": {
        "id": "V2FlYxSb6lKK",
        "colab_type": "code",
        "colab": {}
      },
      "source": [
        "# removing rows w/o comments to better fit the dataset definition on dataquest\n",
        "hn1 = []\n",
        "for row in hn:\n",
        "  comments = int(row[4])\n",
        "  if comments != 0:\n",
        "    hn1.append(row)\n",
        "hn =hn1 \n",
        "# cannot pull the same random sample as before to reach 20,000"
      ],
      "execution_count": 17,
      "outputs": []
    },
    {
      "cell_type": "code",
      "metadata": {
        "id": "-wPER5HasCoG",
        "colab_type": "code",
        "colab": {
          "base_uri": "https://localhost:8080/",
          "height": 67
        },
        "outputId": "5e0d0819-e1f5-4097-c19e-2e94ce95dd4b"
      },
      "source": [
        "ask_posts = []\n",
        "show_posts = []\n",
        "other_posts = []\n",
        "for row in hn:\n",
        "  title = row[1].lower()\n",
        "  if title.startswith('ask hn'):\n",
        "    ask_posts.append(row)\n",
        "  elif title.startswith('show hn'):\n",
        "    show_posts.append(row)\n",
        "  else:\n",
        "    other_posts.append(row)\n",
        "print('count of ask posts:', len(ask_posts))\n",
        "print('count of show posts:', len(show_posts))\n",
        "print('other:', len(other_posts))"
      ],
      "execution_count": 18,
      "outputs": [
        {
          "output_type": "stream",
          "text": [
            "count of ask posts: 6911\n",
            "count of show posts: 5059\n",
            "other: 68431\n"
          ],
          "name": "stdout"
        }
      ]
    },
    {
      "cell_type": "code",
      "metadata": {
        "id": "6Agk0hDi7jPZ",
        "colab_type": "code",
        "colab": {
          "base_uri": "https://localhost:8080/",
          "height": 34
        },
        "outputId": "68287012-d7ac-467f-ed76-c89d4a11fed4"
      },
      "source": [
        "total_ask_comments = 0\n",
        "for row in ask_posts:\n",
        "  comments = int(row[4])\n",
        "  total_ask_comments += comments\n",
        "avg_ask_comments = total_ask_comments / len(ask_posts)\n",
        "print(round(avg_ask_comments,2))"
      ],
      "execution_count": 19,
      "outputs": [
        {
          "output_type": "stream",
          "text": [
            "13.74\n"
          ],
          "name": "stdout"
        }
      ]
    },
    {
      "cell_type": "code",
      "metadata": {
        "id": "DH9oNb0B8wfz",
        "colab_type": "code",
        "colab": {
          "base_uri": "https://localhost:8080/",
          "height": 34
        },
        "outputId": "52f8cafc-6d46-4378-cba4-ed9415627261"
      },
      "source": [
        "total_show_comments = 0\n",
        "for row in show_posts:\n",
        "  comments = int(row[4])\n",
        "  total_show_comments += comments\n",
        "avg_show_comments = total_show_comments / len(show_posts)\n",
        "print(round(avg_show_comments,2))"
      ],
      "execution_count": 20,
      "outputs": [
        {
          "output_type": "stream",
          "text": [
            "9.81\n"
          ],
          "name": "stdout"
        }
      ]
    },
    {
      "cell_type": "code",
      "metadata": {
        "id": "M65c74vy9Qcz",
        "colab_type": "code",
        "colab": {}
      },
      "source": [
        "import datetime as dt\n",
        "# ask results\n",
        "ask_result_list = []\n",
        "for row in ask_posts:\n",
        "  created_at = row[6]\n",
        "  comments = int(row[4])\n",
        "  ask_result_list.append((created_at,comments))\n"
      ],
      "execution_count": 21,
      "outputs": []
    },
    {
      "cell_type": "code",
      "metadata": {
        "id": "ismf9UUQpLNP",
        "colab_type": "code",
        "colab": {}
      },
      "source": [
        "ask_counts_by_hour = {}\n",
        "ask_comments_by_hour = {}\n",
        "for item in ask_result_list:\n",
        "  template = \"%m/%d/%Y %H:%M\"\n",
        "  time_created = dt.datetime.strptime(item[0],template)\n",
        "  hour = time_created.strftime('%H')\n",
        "  if hour in ask_counts_by_hour:\n",
        "    ask_counts_by_hour[hour] += 1\n",
        "    ask_comments_by_hour[hour] += item[1]\n",
        "  else:\n",
        "    ask_counts_by_hour[hour] = 1\n",
        "    ask_comments_by_hour[hour] = item[1]"
      ],
      "execution_count": 22,
      "outputs": []
    },
    {
      "cell_type": "code",
      "metadata": {
        "id": "WotXzbKEv01u",
        "colab_type": "code",
        "colab": {
          "base_uri": "https://localhost:8080/",
          "height": 54
        },
        "outputId": "c7d1e1a6-a5f4-4223-bf8e-042f132a8ced"
      },
      "source": [
        "ask_avg_by_hour = []\n",
        "for hour in ask_counts_by_hour:\n",
        "  ask_avg_by_hour.append([hour,round(ask_comments_by_hour[hour]/\n",
        "                          ask_counts_by_hour[hour],2)])\n",
        "print(ask_avg_by_hour)"
      ],
      "execution_count": 23,
      "outputs": [
        {
          "output_type": "stream",
          "text": [
            "[['02', 13.2], ['01', 9.37], ['22', 11.75], ['21', 11.06], ['19', 9.41], ['17', 13.73], ['15', 39.67], ['14', 13.15], ['13', 22.22], ['11', 11.14], ['10', 13.76], ['09', 8.39], ['07', 10.1], ['03', 10.16], ['16', 10.76], ['08', 12.43], ['00', 9.86], ['23', 8.32], ['20', 11.38], ['18', 10.79], ['12', 15.45], ['04', 12.69], ['06', 9.02], ['05', 11.14]]\n"
          ],
          "name": "stdout"
        }
      ]
    },
    {
      "cell_type": "code",
      "metadata": {
        "id": "IH-W-CZO2BkB",
        "colab_type": "code",
        "colab": {
          "base_uri": "https://localhost:8080/",
          "height": 54
        },
        "outputId": "1a3beb66-8952-4b53-e638-2071f58cc810"
      },
      "source": [
        "show_avg_by_hour = []\n",
        "for hour in show_counts_by_hour:\n",
        "  show_avg_by_hour.append([hour,round(show_comments_by_hour[hour]/\n",
        "                                      show_counts_by_hour[hour],2)])\n",
        "print(show_avg_by_hour)"
      ],
      "execution_count": 24,
      "outputs": [
        {
          "output_type": "stream",
          "text": [
            "[['20', 8.87], ['19', 10.34], ['16', 9.69], ['14', 11.6], ['10', 7.87], ['09', 8.93], ['06', 9.52], ['03', 9.63], ['18', 10.42], ['17', 8.75], ['15', 9.76], ['11', 10.58], ['13', 9.92], ['01', 7.45], ['22', 7.55], ['12', 12.03], ['08', 11.07], ['04', 10.87], ['00', 9.1], ['21', 8.42], ['05', 7.79], ['23', 9.76], ['07', 12.42], ['02', 10.35]]\n"
          ],
          "name": "stdout"
        }
      ]
    },
    {
      "cell_type": "code",
      "metadata": {
        "id": "A7SA-iDc3Dyu",
        "colab_type": "code",
        "colab": {
          "base_uri": "https://localhost:8080/",
          "height": 54
        },
        "outputId": "037b6a5a-7b67-45ee-8959-26dd909a032e"
      },
      "source": [
        "swap_ask_avg_by_hour = []\n",
        "for row in ask_avg_by_hour:\n",
        "  swap_ask_avg_by_hour.append([row[1],row[0]])\n",
        "print(swap_ask_avg_by_hour)"
      ],
      "execution_count": 25,
      "outputs": [
        {
          "output_type": "stream",
          "text": [
            "[[13.2, '02'], [9.37, '01'], [11.75, '22'], [11.06, '21'], [9.41, '19'], [13.73, '17'], [39.67, '15'], [13.15, '14'], [22.22, '13'], [11.14, '11'], [13.76, '10'], [8.39, '09'], [10.1, '07'], [10.16, '03'], [10.76, '16'], [12.43, '08'], [9.86, '00'], [8.32, '23'], [11.38, '20'], [10.79, '18'], [15.45, '12'], [12.69, '04'], [9.02, '06'], [11.14, '05']]\n"
          ],
          "name": "stdout"
        }
      ]
    },
    {
      "cell_type": "code",
      "metadata": {
        "id": "GASXGG6o3z4m",
        "colab_type": "code",
        "colab": {
          "base_uri": "https://localhost:8080/",
          "height": 101
        },
        "outputId": "3549dffd-f848-4da8-b8c3-ad1bf473c10d"
      },
      "source": [
        "sorted_swap_ask = sorted(swap_ask_avg_by_hour,reverse = True)\n",
        "print('Top 5 Hours for Ask Posts Comments')\n",
        "for avg in sorted_swap_ask[:4]:\n",
        "  com = avg[0]\n",
        "  hour = dt.datetime.strptime(avg[1],'%H')\n",
        "  hour = hour.strftime('%H')\n",
        "  template = '{}:00: {} average comments per post'\n",
        "  print(template.format(hour,com))\n",
        "\n"
      ],
      "execution_count": 26,
      "outputs": [
        {
          "output_type": "stream",
          "text": [
            "Top 5 Hours for Ask Posts Comments\n",
            "15:00: 39.67 average comments per post\n",
            "13:00: 22.22 average comments per post\n",
            "12:00: 15.45 average comments per post\n",
            "10:00: 13.76 average comments per post\n"
          ],
          "name": "stdout"
        }
      ]
    },
    {
      "cell_type": "markdown",
      "metadata": {
        "id": "XAGhR_m768xu",
        "colab_type": "text"
      },
      "source": [
        "3PM is the best time for getting comments on Ask HN posts."
      ]
    }
  ]
}