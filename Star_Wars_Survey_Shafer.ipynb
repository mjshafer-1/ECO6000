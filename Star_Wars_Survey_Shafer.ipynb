{
  "nbformat": 4,
  "nbformat_minor": 0,
  "metadata": {
    "colab": {
      "name": "Star Wars Survey Shafer",
      "provenance": [],
      "collapsed_sections": [],
      "authorship_tag": "ABX9TyMIVltIdnvw+trzFupR1Cbb",
      "include_colab_link": true
    },
    "kernelspec": {
      "name": "python3",
      "display_name": "Python 3"
    }
  },
  "cells": [
    {
      "cell_type": "markdown",
      "metadata": {
        "id": "view-in-github",
        "colab_type": "text"
      },
      "source": [
        "<a href=\"https://colab.research.google.com/github/mjshafer-1/ECO6100/blob/master/Star_Wars_Survey_Shafer.ipynb\" target=\"_parent\"><img src=\"https://colab.research.google.com/assets/colab-badge.svg\" alt=\"Open In Colab\"/></a>"
      ]
    },
    {
      "cell_type": "code",
      "metadata": {
        "id": "qwcOytlOJSWv"
      },
      "source": [
        "import pandas as pd\n",
        "import numpy as np\n",
        "import matplotlib.pyplot as plt\n",
        "%matplotlib inline"
      ],
      "execution_count": 36,
      "outputs": []
    },
    {
      "cell_type": "code",
      "metadata": {
        "id": "uAYnVhVvJkI7"
      },
      "source": [
        "star_wars = pd.read_csv('https://github.com/fivethirtyeight/data/raw/master/star-wars-survey/StarWars.csv',encoding='ISO-8859-1')"
      ],
      "execution_count": 37,
      "outputs": []
    },
    {
      "cell_type": "code",
      "metadata": {
        "id": "vajcuprxJ13A",
        "outputId": "5d9e9a16-aa80-4f1a-d0e1-ef31d5f0fbc6",
        "colab": {
          "base_uri": "https://localhost:8080/",
          "height": 1000
        }
      },
      "source": [
        "print(star_wars.columns)\n",
        "print('\\n')\n",
        "print(star_wars.info())"
      ],
      "execution_count": 38,
      "outputs": [
        {
          "output_type": "stream",
          "text": [
            "Index(['RespondentID',\n",
            "       'Have you seen any of the 6 films in the Star Wars franchise?',\n",
            "       'Do you consider yourself to be a fan of the Star Wars film franchise?',\n",
            "       'Which of the following Star Wars films have you seen? Please select all that apply.',\n",
            "       'Unnamed: 4', 'Unnamed: 5', 'Unnamed: 6', 'Unnamed: 7', 'Unnamed: 8',\n",
            "       'Please rank the Star Wars films in order of preference with 1 being your favorite film in the franchise and 6 being your least favorite film.',\n",
            "       'Unnamed: 10', 'Unnamed: 11', 'Unnamed: 12', 'Unnamed: 13',\n",
            "       'Unnamed: 14',\n",
            "       'Please state whether you view the following characters favorably, unfavorably, or are unfamiliar with him/her.',\n",
            "       'Unnamed: 16', 'Unnamed: 17', 'Unnamed: 18', 'Unnamed: 19',\n",
            "       'Unnamed: 20', 'Unnamed: 21', 'Unnamed: 22', 'Unnamed: 23',\n",
            "       'Unnamed: 24', 'Unnamed: 25', 'Unnamed: 26', 'Unnamed: 27',\n",
            "       'Unnamed: 28', 'Which character shot first?',\n",
            "       'Are you familiar with the Expanded Universe?',\n",
            "       'Do you consider yourself to be a fan of the Expanded Universe?æ',\n",
            "       'Do you consider yourself to be a fan of the Star Trek franchise?',\n",
            "       'Gender', 'Age', 'Household Income', 'Education',\n",
            "       'Location (Census Region)'],\n",
            "      dtype='object')\n",
            "\n",
            "\n",
            "<class 'pandas.core.frame.DataFrame'>\n",
            "RangeIndex: 1187 entries, 0 to 1186\n",
            "Data columns (total 38 columns):\n",
            " #   Column                                                                                                                                         Non-Null Count  Dtype  \n",
            "---  ------                                                                                                                                         --------------  -----  \n",
            " 0   RespondentID                                                                                                                                   1186 non-null   float64\n",
            " 1   Have you seen any of the 6 films in the Star Wars franchise?                                                                                   1187 non-null   object \n",
            " 2   Do you consider yourself to be a fan of the Star Wars film franchise?                                                                          837 non-null    object \n",
            " 3   Which of the following Star Wars films have you seen? Please select all that apply.                                                            674 non-null    object \n",
            " 4   Unnamed: 4                                                                                                                                     572 non-null    object \n",
            " 5   Unnamed: 5                                                                                                                                     551 non-null    object \n",
            " 6   Unnamed: 6                                                                                                                                     608 non-null    object \n",
            " 7   Unnamed: 7                                                                                                                                     759 non-null    object \n",
            " 8   Unnamed: 8                                                                                                                                     739 non-null    object \n",
            " 9   Please rank the Star Wars films in order of preference with 1 being your favorite film in the franchise and 6 being your least favorite film.  836 non-null    object \n",
            " 10  Unnamed: 10                                                                                                                                    837 non-null    object \n",
            " 11  Unnamed: 11                                                                                                                                    836 non-null    object \n",
            " 12  Unnamed: 12                                                                                                                                    837 non-null    object \n",
            " 13  Unnamed: 13                                                                                                                                    837 non-null    object \n",
            " 14  Unnamed: 14                                                                                                                                    837 non-null    object \n",
            " 15  Please state whether you view the following characters favorably, unfavorably, or are unfamiliar with him/her.                                 830 non-null    object \n",
            " 16  Unnamed: 16                                                                                                                                    832 non-null    object \n",
            " 17  Unnamed: 17                                                                                                                                    832 non-null    object \n",
            " 18  Unnamed: 18                                                                                                                                    824 non-null    object \n",
            " 19  Unnamed: 19                                                                                                                                    826 non-null    object \n",
            " 20  Unnamed: 20                                                                                                                                    815 non-null    object \n",
            " 21  Unnamed: 21                                                                                                                                    827 non-null    object \n",
            " 22  Unnamed: 22                                                                                                                                    821 non-null    object \n",
            " 23  Unnamed: 23                                                                                                                                    813 non-null    object \n",
            " 24  Unnamed: 24                                                                                                                                    828 non-null    object \n",
            " 25  Unnamed: 25                                                                                                                                    831 non-null    object \n",
            " 26  Unnamed: 26                                                                                                                                    822 non-null    object \n",
            " 27  Unnamed: 27                                                                                                                                    815 non-null    object \n",
            " 28  Unnamed: 28                                                                                                                                    827 non-null    object \n",
            " 29  Which character shot first?                                                                                                                    829 non-null    object \n",
            " 30  Are you familiar with the Expanded Universe?                                                                                                   829 non-null    object \n",
            " 31  Do you consider yourself to be a fan of the Expanded Universe?æ                                                                               214 non-null    object \n",
            " 32  Do you consider yourself to be a fan of the Star Trek franchise?                                                                               1069 non-null   object \n",
            " 33  Gender                                                                                                                                         1047 non-null   object \n",
            " 34  Age                                                                                                                                            1047 non-null   object \n",
            " 35  Household Income                                                                                                                               859 non-null    object \n",
            " 36  Education                                                                                                                                      1037 non-null   object \n",
            " 37  Location (Census Region)                                                                                                                       1044 non-null   object \n",
            "dtypes: float64(1), object(37)\n",
            "memory usage: 352.5+ KB\n",
            "None\n"
          ],
          "name": "stdout"
        }
      ]
    },
    {
      "cell_type": "code",
      "metadata": {
        "id": "fiGeNUSJKPdA",
        "outputId": "35531faa-9a7c-4015-ff2f-9c36f55e8547",
        "colab": {
          "base_uri": "https://localhost:8080/",
          "height": 50
        }
      },
      "source": [
        "print(star_wars['RespondentID'].isnull().sum())\n",
        "star_wars = star_wars[star_wars['RespondentID'].notnull()]\n",
        "print(star_wars['RespondentID'].isnull().sum())\n"
      ],
      "execution_count": 39,
      "outputs": [
        {
          "output_type": "stream",
          "text": [
            "1\n",
            "0\n"
          ],
          "name": "stdout"
        }
      ]
    },
    {
      "cell_type": "code",
      "metadata": {
        "id": "7Oz_cYvuKsiB"
      },
      "source": [
        "yes_no = {'Yes':True,'No':False}\n",
        "star_wars['Have you seen any of the 6 films in the Star Wars franchise?'] = star_wars['Have you seen any of the 6 films in the Star Wars franchise?'].map(yes_no)\n",
        "star_wars['Do you consider yourself to be a fan of the Star Wars film franchise?'] =star_wars['Do you consider yourself to be a fan of the Star Wars film franchise?'].map(yes_no)"
      ],
      "execution_count": 40,
      "outputs": []
    },
    {
      "cell_type": "code",
      "metadata": {
        "id": "JDedSTRBWzU_",
        "outputId": "ab008cc7-9327-4fa4-c0fd-9e39479169a8",
        "colab": {
          "base_uri": "https://localhost:8080/",
          "height": 218
        }
      },
      "source": [
        "for c in star_wars.columns[3:9]:\n",
        "  print(star_wars[c].value_counts())"
      ],
      "execution_count": 41,
      "outputs": [
        {
          "output_type": "stream",
          "text": [
            "Star Wars: Episode I  The Phantom Menace    673\n",
            "Name: Which of the following Star Wars films have you seen? Please select all that apply., dtype: int64\n",
            "Star Wars: Episode II  Attack of the Clones    571\n",
            "Name: Unnamed: 4, dtype: int64\n",
            "Star Wars: Episode III  Revenge of the Sith    550\n",
            "Name: Unnamed: 5, dtype: int64\n",
            "Star Wars: Episode IV  A New Hope    607\n",
            "Name: Unnamed: 6, dtype: int64\n",
            "Star Wars: Episode V The Empire Strikes Back    758\n",
            "Name: Unnamed: 7, dtype: int64\n",
            "Star Wars: Episode VI Return of the Jedi    738\n",
            "Name: Unnamed: 8, dtype: int64\n"
          ],
          "name": "stdout"
        }
      ]
    },
    {
      "cell_type": "code",
      "metadata": {
        "id": "UuKTSgWRSA-B"
      },
      "source": [
        "movie_map = {'Star Wars: Episode I  The Phantom Menace': True,\n",
        "             'Star Wars: Episode II  Attack of the Clones': True,\n",
        "             'Star Wars: Episode III  Revenge of the Sith': True,\n",
        "             'Star Wars: Episode IV  A New Hope': True,\n",
        "             'Star Wars: Episode V The Empire Strikes Back':True,\n",
        "             'Star Wars: Episode VI Return of the Jedi': True,\n",
        "             np.NaN:False}\n",
        "for c in star_wars.columns[3:9]:\n",
        "  star_wars[c] = star_wars[c].map(movie_map)"
      ],
      "execution_count": 42,
      "outputs": []
    },
    {
      "cell_type": "code",
      "metadata": {
        "id": "iodZIRQDTSnt",
        "outputId": "9aea827e-b56c-436f-dc3c-e39cca066914",
        "colab": {
          "base_uri": "https://localhost:8080/",
          "height": 773
        }
      },
      "source": [
        "col_map = {'Which of the following Star Wars films have you seen? Please select all that apply.': 'seen_1',\n",
        "           'Unnamed: 4': 'seen_2',\n",
        "           'Unnamed: 5': 'seen_3',\n",
        "           'Unnamed: 6': 'seen_4',\n",
        "           'Unnamed: 7':'seen_5',\n",
        "           'Unnamed: 8': 'seen_6'}\n",
        "star_wars.rename(col_map,axis=1,inplace=True)\n",
        "star_wars.info()"
      ],
      "execution_count": 43,
      "outputs": [
        {
          "output_type": "stream",
          "text": [
            "<class 'pandas.core.frame.DataFrame'>\n",
            "Int64Index: 1186 entries, 1 to 1186\n",
            "Data columns (total 38 columns):\n",
            " #   Column                                                                                                                                         Non-Null Count  Dtype  \n",
            "---  ------                                                                                                                                         --------------  -----  \n",
            " 0   RespondentID                                                                                                                                   1186 non-null   float64\n",
            " 1   Have you seen any of the 6 films in the Star Wars franchise?                                                                                   1186 non-null   bool   \n",
            " 2   Do you consider yourself to be a fan of the Star Wars film franchise?                                                                          836 non-null    object \n",
            " 3   seen_1                                                                                                                                         1186 non-null   bool   \n",
            " 4   seen_2                                                                                                                                         1186 non-null   bool   \n",
            " 5   seen_3                                                                                                                                         1186 non-null   bool   \n",
            " 6   seen_4                                                                                                                                         1186 non-null   bool   \n",
            " 7   seen_5                                                                                                                                         1186 non-null   bool   \n",
            " 8   seen_6                                                                                                                                         1186 non-null   bool   \n",
            " 9   Please rank the Star Wars films in order of preference with 1 being your favorite film in the franchise and 6 being your least favorite film.  835 non-null    object \n",
            " 10  Unnamed: 10                                                                                                                                    836 non-null    object \n",
            " 11  Unnamed: 11                                                                                                                                    835 non-null    object \n",
            " 12  Unnamed: 12                                                                                                                                    836 non-null    object \n",
            " 13  Unnamed: 13                                                                                                                                    836 non-null    object \n",
            " 14  Unnamed: 14                                                                                                                                    836 non-null    object \n",
            " 15  Please state whether you view the following characters favorably, unfavorably, or are unfamiliar with him/her.                                 829 non-null    object \n",
            " 16  Unnamed: 16                                                                                                                                    831 non-null    object \n",
            " 17  Unnamed: 17                                                                                                                                    831 non-null    object \n",
            " 18  Unnamed: 18                                                                                                                                    823 non-null    object \n",
            " 19  Unnamed: 19                                                                                                                                    825 non-null    object \n",
            " 20  Unnamed: 20                                                                                                                                    814 non-null    object \n",
            " 21  Unnamed: 21                                                                                                                                    826 non-null    object \n",
            " 22  Unnamed: 22                                                                                                                                    820 non-null    object \n",
            " 23  Unnamed: 23                                                                                                                                    812 non-null    object \n",
            " 24  Unnamed: 24                                                                                                                                    827 non-null    object \n",
            " 25  Unnamed: 25                                                                                                                                    830 non-null    object \n",
            " 26  Unnamed: 26                                                                                                                                    821 non-null    object \n",
            " 27  Unnamed: 27                                                                                                                                    814 non-null    object \n",
            " 28  Unnamed: 28                                                                                                                                    826 non-null    object \n",
            " 29  Which character shot first?                                                                                                                    828 non-null    object \n",
            " 30  Are you familiar with the Expanded Universe?                                                                                                   828 non-null    object \n",
            " 31  Do you consider yourself to be a fan of the Expanded Universe?æ                                                                               213 non-null    object \n",
            " 32  Do you consider yourself to be a fan of the Star Trek franchise?                                                                               1068 non-null   object \n",
            " 33  Gender                                                                                                                                         1046 non-null   object \n",
            " 34  Age                                                                                                                                            1046 non-null   object \n",
            " 35  Household Income                                                                                                                               858 non-null    object \n",
            " 36  Education                                                                                                                                      1036 non-null   object \n",
            " 37  Location (Census Region)                                                                                                                       1043 non-null   object \n",
            "dtypes: bool(7), float64(1), object(30)\n",
            "memory usage: 304.6+ KB\n"
          ],
          "name": "stdout"
        }
      ]
    },
    {
      "cell_type": "code",
      "metadata": {
        "id": "4G0cDNwTcdRk",
        "outputId": "4dd85192-0b6b-4a00-d76a-7cdcacc13abc",
        "colab": {
          "base_uri": "https://localhost:8080/",
          "height": 773
        }
      },
      "source": [
        "for c in star_wars.columns[9:15]:\n",
        "    star_wars[c] = star_wars[c].astype(float)\n",
        "col2_map = {'Please rank the Star Wars films in order of preference with 1 being your favorite film in the franchise and 6 being your least favorite film.': 'ranking_1',\n",
        "            'Unnamed: 10': 'ranking_2',\n",
        "            'Unnamed: 11': 'ranking_3',\n",
        "            'Unnamed: 12': 'ranking_4',\n",
        "            'Unnamed: 13': 'ranking_5',\n",
        "            'Unnamed: 14': 'ranking_6'}\n",
        "star_wars.rename(col2_map,axis=1,inplace=True)\n",
        "star_wars.info()"
      ],
      "execution_count": 44,
      "outputs": [
        {
          "output_type": "stream",
          "text": [
            "<class 'pandas.core.frame.DataFrame'>\n",
            "Int64Index: 1186 entries, 1 to 1186\n",
            "Data columns (total 38 columns):\n",
            " #   Column                                                                                                          Non-Null Count  Dtype  \n",
            "---  ------                                                                                                          --------------  -----  \n",
            " 0   RespondentID                                                                                                    1186 non-null   float64\n",
            " 1   Have you seen any of the 6 films in the Star Wars franchise?                                                    1186 non-null   bool   \n",
            " 2   Do you consider yourself to be a fan of the Star Wars film franchise?                                           836 non-null    object \n",
            " 3   seen_1                                                                                                          1186 non-null   bool   \n",
            " 4   seen_2                                                                                                          1186 non-null   bool   \n",
            " 5   seen_3                                                                                                          1186 non-null   bool   \n",
            " 6   seen_4                                                                                                          1186 non-null   bool   \n",
            " 7   seen_5                                                                                                          1186 non-null   bool   \n",
            " 8   seen_6                                                                                                          1186 non-null   bool   \n",
            " 9   ranking_1                                                                                                       835 non-null    float64\n",
            " 10  ranking_2                                                                                                       836 non-null    float64\n",
            " 11  ranking_3                                                                                                       835 non-null    float64\n",
            " 12  ranking_4                                                                                                       836 non-null    float64\n",
            " 13  ranking_5                                                                                                       836 non-null    float64\n",
            " 14  ranking_6                                                                                                       836 non-null    float64\n",
            " 15  Please state whether you view the following characters favorably, unfavorably, or are unfamiliar with him/her.  829 non-null    object \n",
            " 16  Unnamed: 16                                                                                                     831 non-null    object \n",
            " 17  Unnamed: 17                                                                                                     831 non-null    object \n",
            " 18  Unnamed: 18                                                                                                     823 non-null    object \n",
            " 19  Unnamed: 19                                                                                                     825 non-null    object \n",
            " 20  Unnamed: 20                                                                                                     814 non-null    object \n",
            " 21  Unnamed: 21                                                                                                     826 non-null    object \n",
            " 22  Unnamed: 22                                                                                                     820 non-null    object \n",
            " 23  Unnamed: 23                                                                                                     812 non-null    object \n",
            " 24  Unnamed: 24                                                                                                     827 non-null    object \n",
            " 25  Unnamed: 25                                                                                                     830 non-null    object \n",
            " 26  Unnamed: 26                                                                                                     821 non-null    object \n",
            " 27  Unnamed: 27                                                                                                     814 non-null    object \n",
            " 28  Unnamed: 28                                                                                                     826 non-null    object \n",
            " 29  Which character shot first?                                                                                     828 non-null    object \n",
            " 30  Are you familiar with the Expanded Universe?                                                                    828 non-null    object \n",
            " 31  Do you consider yourself to be a fan of the Expanded Universe?æ                                                213 non-null    object \n",
            " 32  Do you consider yourself to be a fan of the Star Trek franchise?                                                1068 non-null   object \n",
            " 33  Gender                                                                                                          1046 non-null   object \n",
            " 34  Age                                                                                                             1046 non-null   object \n",
            " 35  Household Income                                                                                                858 non-null    object \n",
            " 36  Education                                                                                                       1036 non-null   object \n",
            " 37  Location (Census Region)                                                                                        1043 non-null   object \n",
            "dtypes: bool(7), float64(7), object(24)\n",
            "memory usage: 304.6+ KB\n"
          ],
          "name": "stdout"
        }
      ]
    },
    {
      "cell_type": "code",
      "metadata": {
        "id": "WjVhXHzde7xH",
        "outputId": "22e1a10a-5656-44a5-dfde-291829933f75",
        "colab": {
          "base_uri": "https://localhost:8080/",
          "height": 298
        }
      },
      "source": [
        "means = star_wars.iloc[:,9:15].mean()\n",
        "views = star_wars.iloc[:,3:9].sum()\n",
        "fig = plt.figure()\n",
        "ax1 = fig.add_subplot(1,2,1)\n",
        "ax2 = fig.add_subplot(1,2,2)\n",
        "ax1.bar(star_wars.columns[9:15], height=means)\n",
        "ax2.bar(star_wars.columns[9:15],height=views)\n",
        "\n",
        "ax1.set_xticklabels(['I', 'II', 'III', 'IV', 'V', 'VI'])\n",
        "ax1.set_yticks([1,2,3,4,5])\n",
        "ax1.set_title('Movie Ranking')\n",
        "ax1.set_ylabel('Avg Rank (lower = better)')\n",
        "ax2.set_xticklabels(['I', 'II', 'III', 'IV', 'V', 'VI'])\n",
        "ax2.set_title('# of Viewers')\n"
      ],
      "execution_count": 45,
      "outputs": [
        {
          "output_type": "execute_result",
          "data": {
            "text/plain": [
              "Text(0.5, 1.0, '# of Viewers')"
            ]
          },
          "metadata": {
            "tags": []
          },
          "execution_count": 45
        },
        {
          "output_type": "display_data",
          "data": {
            "image/png": "[encoded data removed]",
            "text/plain": [
              "<Figure size 432x288 with 2 Axes>"
            ]
          },
          "metadata": {
            "tags": [],
            "needs_background": "light"
          }
        }
      ]
    },
    {
      "cell_type": "markdown",
      "metadata": {
        "id": "jhKbWYcrfz01"
      },
      "source": [
        "## Movie Rankings: General ##\n",
        "We can see i the above chart that the best ranked Star Wars movie is Episode V: The Empire Strikes Back, which is also the most viewed movie in the list. In fact, it appears that there is some relationship between the number of respondents who have seen the movie and the rank that movie is given.  This may be because more people will watch the movies considered the best and ignore the others."
      ]
    },
    {
      "cell_type": "code",
      "metadata": {
        "id": "xyU0HxeMgovo"
      },
      "source": [
        "males = star_wars[star_wars[\"Gender\"] == \"Male\"]\n",
        "females = star_wars[star_wars[\"Gender\"] == \"Female\"]"
      ],
      "execution_count": 46,
      "outputs": []
    },
    {
      "cell_type": "code",
      "metadata": {
        "id": "A2uayzZ9oKRu",
        "outputId": "33a4ea21-27a8-4c27-85ba-2ba15aab12dc",
        "colab": {
          "base_uri": "https://localhost:8080/",
          "height": 298
        }
      },
      "source": [
        "means_m = males.iloc[:,9:15].mean()\n",
        "views_m = males.iloc[:,3:9].sum()\n",
        "fig = plt.figure()\n",
        "ax1 = fig.add_subplot(1,2,1)\n",
        "ax2 = fig.add_subplot(1,2,2)\n",
        "ax1.bar(males.columns[9:15], height=means_m)\n",
        "ax2.bar(males.columns[9:15],height=views_m)\n",
        "\n",
        "ax1.set_xticklabels(['I', 'II', 'III', 'IV', 'V', 'VI'])\n",
        "ax1.set_yticks([1,2,3,4,5])\n",
        "ax1.set_title('Movie Ranking (Male)')\n",
        "ax1.set_ylabel('Avg Rank (lower = better)')\n",
        "ax2.set_xticklabels(['I', 'II', 'III', 'IV', 'V', 'VI'])\n",
        "ax2.set_title('# of Viewers (Male)')"
      ],
      "execution_count": 47,
      "outputs": [
        {
          "output_type": "execute_result",
          "data": {
            "text/plain": [
              "Text(0.5, 1.0, '# of Viewers (Males)')"
            ]
          },
          "metadata": {
            "tags": []
          },
          "execution_count": 47
        },
        {
          "output_type": "display_data",
          "data": {
            "image/png": "[encoded data removed]",
            "text/plain": [
              "<Figure size 432x288 with 2 Axes>"
            ]
          },
          "metadata": {
            "tags": [],
            "needs_background": "light"
          }
        }
      ]
    },
    {
      "cell_type": "code",
      "metadata": {
        "id": "_cl6-LPAobec",
        "outputId": "aacbb062-0179-47aa-8f48-f3851a1fcb72",
        "colab": {
          "base_uri": "https://localhost:8080/",
          "height": 298
        }
      },
      "source": [
        "means_f = females.iloc[:,9:15].mean()\n",
        "views_f = females.iloc[:,3:9].sum()\n",
        "fig = plt.figure()\n",
        "ax1 = fig.add_subplot(1,2,1)\n",
        "ax2 = fig.add_subplot(1,2,2)\n",
        "ax1.bar(females.columns[9:15], height=means_f)\n",
        "ax2.bar(females.columns[9:15],height=views_f)\n",
        "\n",
        "ax1.set_xticklabels(['I', 'II', 'III', 'IV', 'V', 'VI'])\n",
        "ax1.set_yticks([1,2,3,4,5])\n",
        "ax1.set_title('Movie Ranking (Female)')\n",
        "ax1.set_ylabel('Avg Rank (lower = better)')\n",
        "ax2.set_xticklabels(['I', 'II', 'III', 'IV', 'V', 'VI'])\n",
        "ax2.set_title('# of Viewers (Female)')"
      ],
      "execution_count": 48,
      "outputs": [
        {
          "output_type": "execute_result",
          "data": {
            "text/plain": [
              "Text(0.5, 1.0, '# of Viewers (Females)')"
            ]
          },
          "metadata": {
            "tags": []
          },
          "execution_count": 48
        },
        {
          "output_type": "display_data",
          "data": {
            "image/png": "[encoded data removed]",
            "text/plain": [
              "<Figure size 432x288 with 2 Axes>"
            ]
          },
          "metadata": {
            "tags": [],
            "needs_background": "light"
          }
        }
      ]
    },
    {
      "cell_type": "markdown",
      "metadata": {
        "id": "A0yURgijo5py"
      },
      "source": [
        "## Movie Rankings: Men & Women ##\n",
        "\n",
        "Based on the above charts, we can see that the general rankings are similar between men and women. The main difference is that men tend to rank the original trilogy (IV - VI) higher than the prequels (I - III), while women rank Episodes I & IV similarly. Furthermore, the differene between the most and least watched movies is less for men than for women."
      ]
    },
    {
      "cell_type": "code",
      "metadata": {
        "id": "5gJYhNJSo3XD"
      },
      "source": [
        "fans = star_wars[star_wars[\"Do you consider yourself to be a fan of the Star Wars film franchise?\"] == True]\n",
        "nonfans = star_wars[star_wars[\"Do you consider yourself to be a fan of the Star Wars film franchise?\"] == False]"
      ],
      "execution_count": 49,
      "outputs": []
    },
    {
      "cell_type": "code",
      "metadata": {
        "id": "pCd1wsVAqZJU",
        "outputId": "07cbe657-1b05-440d-a1c6-abd04b45fbaf",
        "colab": {
          "base_uri": "https://localhost:8080/",
          "height": 298
        }
      },
      "source": [
        "means_fa = fans.iloc[:,9:15].mean()\n",
        "views_fa = fans.iloc[:,3:9].sum()\n",
        "fig = plt.figure()\n",
        "ax1 = fig.add_subplot(1,2,1)\n",
        "ax2 = fig.add_subplot(1,2,2)\n",
        "ax1.bar(fans.columns[9:15], height=means_fa)\n",
        "ax2.bar(fans.columns[9:15],height=views_fa)\n",
        "\n",
        "ax1.set_xticklabels(['I', 'II', 'III', 'IV', 'V', 'VI'])\n",
        "ax1.set_yticks([1,2,3,4,5])\n",
        "ax1.set_title('Movie Ranking (Fan)')\n",
        "ax1.set_ylabel('Avg Rank (lower = better)')\n",
        "ax2.set_xticklabels(['I', 'II', 'III', 'IV', 'V', 'VI'])\n",
        "ax2.set_title('# of Viewers (Fan)')"
      ],
      "execution_count": 50,
      "outputs": [
        {
          "output_type": "execute_result",
          "data": {
            "text/plain": [
              "Text(0.5, 1.0, '# of Viewers (Fans)')"
            ]
          },
          "metadata": {
            "tags": []
          },
          "execution_count": 50
        },
        {
          "output_type": "display_data",
          "data": {
            "image/png": "[encoded data removed]",
            "text/plain": [
              "<Figure size 432x288 with 2 Axes>"
            ]
          },
          "metadata": {
            "tags": [],
            "needs_background": "light"
          }
        }
      ]
    },
    {
      "cell_type": "code",
      "metadata": {
        "id": "TDJC2Hf5qvN0",
        "outputId": "5e36f0f5-5eb7-478a-a809-de2289f2c910",
        "colab": {
          "base_uri": "https://localhost:8080/",
          "height": 298
        }
      },
      "source": [
        "means_nf = nonfans.iloc[:,9:15].mean()\n",
        "views_nf = nonfans.iloc[:,3:9].sum()\n",
        "fig = plt.figure()\n",
        "ax1 = fig.add_subplot(1,2,1)\n",
        "ax2 = fig.add_subplot(1,2,2)\n",
        "ax1.bar(nonfans.columns[9:15], height=means_nf)\n",
        "ax2.bar(nonfans.columns[9:15],height=views_nf)\n",
        "\n",
        "ax1.set_xticklabels(['I', 'II', 'III', 'IV', 'V', 'VI'])\n",
        "ax1.set_yticks([1,2,3,4,5])\n",
        "ax1.set_title('Movie Ranking (Non-Fan)')\n",
        "ax1.set_ylabel('Avg Rank (lower = better)')\n",
        "ax2.set_xticklabels(['I', 'II', 'III', 'IV', 'V', 'VI'])\n",
        "ax2.set_title('# of Viewers (Non-Fan)')"
      ],
      "execution_count": 51,
      "outputs": [
        {
          "output_type": "execute_result",
          "data": {
            "text/plain": [
              "Text(0.5, 1.0, '# of Viewers (Non-Fans)')"
            ]
          },
          "metadata": {
            "tags": []
          },
          "execution_count": 51
        },
        {
          "output_type": "display_data",
          "data": {
            "image/png": "[encoded data removed]",
            "text/plain": [
              "<Figure size 432x288 with 2 Axes>"
            ]
          },
          "metadata": {
            "tags": [],
            "needs_background": "light"
          }
        }
      ]
    },
    {
      "cell_type": "markdown",
      "metadata": {
        "id": "clMWTfMGq_di"
      },
      "source": [
        "## Movie Rankings: Fans & Non-Fans ##\n",
        "Based on the above charts, self-identified fans prefer the original trilogy and many have seen all of the movies. On the other side, non-fans have very different rankings and less uniform watch histories. In particular Episode I has the same average rank as Episode V, while fans rank Episode I far worse. The prequels can be contentious among fans, and that must not extend to the non-fans surveyed. "
      ]
    },
    {
      "cell_type": "code",
      "metadata": {
        "id": "HEhVa_guq-r0"
      },
      "source": [
        "trek = star_wars[star_wars[\"Do you consider yourself to be a fan of the Star Trek franchise?\"] == \"Yes\"]\n",
        "non_trek = star_wars[star_wars[\"Do you consider yourself to be a fan of the Star Trek franchise?\"] == \"No\"]"
      ],
      "execution_count": 52,
      "outputs": []
    },
    {
      "cell_type": "code",
      "metadata": {
        "id": "ql-tw7aoszG_",
        "outputId": "2b2b1ce6-937e-4102-adaf-44dff66a24d3",
        "colab": {
          "base_uri": "https://localhost:8080/",
          "height": 298
        }
      },
      "source": [
        "means_t = trek.iloc[:,9:15].mean()\n",
        "views_t = trek.iloc[:,3:9].sum()\n",
        "fig = plt.figure()\n",
        "ax1 = fig.add_subplot(1,2,1)\n",
        "ax2 = fig.add_subplot(1,2,2)\n",
        "ax1.bar(trek.columns[9:15], height=means_t)\n",
        "ax2.bar(trek.columns[9:15],height=views_t)\n",
        "\n",
        "ax1.set_xticklabels(['I', 'II', 'III', 'IV', 'V', 'VI'])\n",
        "ax1.set_yticks([1,2,3,4,5])\n",
        "ax1.set_title('Movie Ranking (ST Fan)')\n",
        "ax1.set_ylabel('Avg Rank (lower = better)')\n",
        "ax2.set_xticklabels(['I', 'II', 'III', 'IV', 'V', 'VI'])\n",
        "ax2.set_title('# of Viewers (ST Fan)')"
      ],
      "execution_count": 53,
      "outputs": [
        {
          "output_type": "execute_result",
          "data": {
            "text/plain": [
              "Text(0.5, 1.0, '# of Viewers (ST Fans)')"
            ]
          },
          "metadata": {
            "tags": []
          },
          "execution_count": 53
        },
        {
          "output_type": "display_data",
          "data": {
            "image/png": "[encoded data removed]",
            "text/plain": [
              "<Figure size 432x288 with 2 Axes>"
            ]
          },
          "metadata": {
            "tags": [],
            "needs_background": "light"
          }
        }
      ]
    },
    {
      "cell_type": "code",
      "metadata": {
        "id": "EmXg7AFqtDJl",
        "outputId": "ea738489-2616-4290-8d97-d560fabf9711",
        "colab": {
          "base_uri": "https://localhost:8080/",
          "height": 298
        }
      },
      "source": [
        "means_nt = non_trek.iloc[:,9:15].mean()\n",
        "views_nt = non_trek.iloc[:,3:9].sum()\n",
        "fig = plt.figure()\n",
        "ax1 = fig.add_subplot(1,2,1)\n",
        "ax2 = fig.add_subplot(1,2,2)\n",
        "ax1.bar(non_trek.columns[9:15], height=means_nt)\n",
        "ax2.bar(non_trek.columns[9:15],height=views_nt)\n",
        "\n",
        "ax1.set_xticklabels(['I', 'II', 'III', 'IV', 'V', 'VI'])\n",
        "ax1.set_yticks([1,2,3,4,5])\n",
        "ax1.set_title('Movie Ranking (Not ST Fan)')\n",
        "ax1.set_ylabel('Avg Rank (lower = better)')\n",
        "ax2.set_xticklabels(['I', 'II', 'III', 'IV', 'V', 'VI'])\n",
        "ax2.set_title('# of Viewers (Not ST Fan)')"
      ],
      "execution_count": 54,
      "outputs": [
        {
          "output_type": "execute_result",
          "data": {
            "text/plain": [
              "Text(0.5, 1.0, '# of Viewers (Not ST Fans)')"
            ]
          },
          "metadata": {
            "tags": []
          },
          "execution_count": 54
        },
        {
          "output_type": "display_data",
          "data": {
            "image/png": "[encoded data removed]",
            "text/plain": [
              "<Figure size 432x288 with 2 Axes>"
            ]
          },
          "metadata": {
            "tags": [],
            "needs_background": "light"
          }
        }
      ]
    },
    {
      "cell_type": "markdown",
      "metadata": {
        "id": "w3jLYln7tYtg"
      },
      "source": [
        "## Movie Rankings: Star Trek Fans ##\n",
        "The rankings between self-identified Star Trek fans and non-Star Trek fans tend to be roughly the same. Non-Star Trek fans tend to have less of a difference between the original trilogy and the prequels. Star Trek fans were also more likely to have seen the movies than non-Star Trek fans. Since both Star Wars and Star Trek are major sci-fi series, it is easy to understand there would be a fair amount of overlap in terms of viewership."
      ]
    },
    {
      "cell_type": "code",
      "metadata": {
        "id": "wNzLcgcIu9w_",
        "outputId": "40550812-407a-4511-dee3-40af39bd8cb6",
        "colab": {
          "base_uri": "https://localhost:8080/",
          "height": 118
        }
      },
      "source": [
        "star_wars['Age'].value_counts(dropna=False)"
      ],
      "execution_count": 55,
      "outputs": [
        {
          "output_type": "execute_result",
          "data": {
            "text/plain": [
              "45-60    291\n",
              "> 60     269\n",
              "30-44    268\n",
              "18-29    218\n",
              "NaN      140\n",
              "Name: Age, dtype: int64"
            ]
          },
          "metadata": {
            "tags": []
          },
          "execution_count": 55
        }
      ]
    },
    {
      "cell_type": "code",
      "metadata": {
        "id": "GRBZGnW4qBMb"
      },
      "source": [
        "a18 = star_wars[star_wars['Age'] == '18-29']\n",
        "a30 = star_wars[star_wars['Age'] == '30-44']\n",
        "a45 = star_wars[star_wars['Age'] == '45-60']\n",
        "a60 = star_wars[star_wars['Age'] == '> 60']"
      ],
      "execution_count": 56,
      "outputs": []
    },
    {
      "cell_type": "code",
      "metadata": {
        "id": "t4MaNKBbqk9u",
        "outputId": "f30e7310-7a60-4fb9-d9c1-aa82c7f5403b",
        "colab": {
          "base_uri": "https://localhost:8080/",
          "height": 624
        }
      },
      "source": [
        "means_18 = a18.iloc[:,9:15].mean()\n",
        "means_30 = a30.iloc[:,9:15].mean()\n",
        "means_45 = a45.iloc[:,9:15].mean()\n",
        "means_60 = a60.iloc[:,9:15].mean()\n",
        "\n",
        "fig = plt.figure(figsize = (10,10))\n",
        "ax1 = fig.add_subplot(2,2,1)\n",
        "ax2 = fig.add_subplot(2,2,2)\n",
        "ax3 = fig.add_subplot(2,2,3)\n",
        "ax4 = fig.add_subplot(2,2,4)\n",
        "\n",
        "ax1.bar(a18.columns[9:15],height=means_18)\n",
        "ax2.bar(a30.columns[9:15],height=means_30)\n",
        "ax3.bar(a45.columns[9:15],height=means_45)\n",
        "ax4.bar(a60.columns[9:15],height=means_60)\n",
        "\n",
        "\n",
        "ax1.set_xticklabels(['I', 'II', 'III', 'IV', 'V', 'VI'])\n",
        "ax1.set_yticks([1,2,3,4,5])\n",
        "ax1.set_title('Movie Ranking (18-29)')\n",
        "ax2.set_xticklabels(['I', 'II', 'III', 'IV', 'V', 'VI'])\n",
        "ax2.set_yticks([1,2,3,4,5])\n",
        "ax2.set_title('Movie Ranking (30-44)')\n",
        "ax3.set_xticklabels(['I', 'II', 'III', 'IV', 'V', 'VI'])\n",
        "ax3.set_yticks([1,2,3,4,5])\n",
        "ax3.set_title('Movie Ranking (45-60)')\n",
        "ax4.set_xticklabels(['I', 'II', 'III', 'IV', 'V', 'VI'])\n",
        "ax4.set_yticks([1,2,3,4,5])\n",
        "ax4.set_title('Movie Ranking (> 60)') "
      ],
      "execution_count": 57,
      "outputs": [
        {
          "output_type": "execute_result",
          "data": {
            "text/plain": [
              "Text(0.5, 1.0, 'Movie Ranking (> 60)')"
            ]
          },
          "metadata": {
            "tags": []
          },
          "execution_count": 57
        },
        {
          "output_type": "display_data",
          "data": {
            "image/png": "[encoded data removed]",
            "text/plain": [
              "<Figure size 720x720 with 4 Axes>"
            ]
          },
          "metadata": {
            "tags": [],
            "needs_background": "light"
          }
        }
      ]
    },
    {
      "cell_type": "markdown",
      "metadata": {
        "id": "Ag-Ad_KVusP2"
      },
      "source": [
        "## Movie Rankings by Age ##\n",
        "The above charts show the rankings for each film by age group provided in the survey. We can see that between all of the age groups Episode V is still ranked the highest, although not always by much. Surprisingly, it seems that the >60 group ranks the original trilogy and the prequels relatively close, while the divide widens with younger groups. \n",
        "\n",
        "One would think at first that nostalgia may have an effect on rankings; that is, we would expect to see more favorable rankings for movies one would have seen as a child or young adult. However, if this were the case we would expect to see just the opposite of what is shown above. It might be that those who were fans during the original trilogy see both trilogies as contemporary films, while younger viewers see the original trilogy as classics. This generational difference may explain why younger viewers rank Episode I the lowest, while the oldest viewers rank it the second best."
      ]
    },
    {
      "cell_type": "markdown",
      "metadata": {
        "id": "U-z7BW0HzcTe"
      },
      "source": [
        "# Conclusion #\n",
        "Across all of the groups we have analyzed, we can see that the most well liked Star Wars movie is Episode V: The Empire Strikes Back. It is also among the most seen across all groups. Furthermore, we can see that certain groups have a preference for the original trilogy (Episodes IV, V, & VI) while other groups are more balanced among all six films. It will be interesting to analyze the data when information on the newest trilogy is available. "
      ]
    }
  ]
}