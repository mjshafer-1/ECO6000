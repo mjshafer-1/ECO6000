{
  "nbformat": 4,
  "nbformat_minor": 0,
  "metadata": {
    "colab": {
      "name": "Employee Exit Surveys",
      "provenance": [],
      "collapsed_sections": [],
      "authorship_tag": "ABX9TyOW9BubNH5Xig+SPLqAe2up",
      "include_colab_link": true
    },
    "kernelspec": {
      "name": "python3",
      "display_name": "Python 3"
    }
  },
  "cells": [
    {
      "cell_type": "markdown",
      "metadata": {
        "id": "view-in-github",
        "colab_type": "text"
      },
      "source": [
        "<a href=\"https://colab.research.google.com/github/mjshafer-1/ECO6100/blob/master/Employee_Exit_Surveys.ipynb\" target=\"_parent\"><img src=\"https://colab.research.google.com/assets/colab-badge.svg\" alt=\"Open In Colab\"/></a>"
      ]
    },
    {
      "cell_type": "markdown",
      "metadata": {
        "id": "lXjJtXwyH8Np"
      },
      "source": [
        "# Employee Exit Surveys #\n",
        "\n",
        "## Summary of data ##\n",
        "The data that we will be lookin at in this analysis comes from the Department of Education, Training, and Employment ([DETE](https://data.gov.au/dataset/ds-qld-fe96ff30-d157-4a81-851d-215f2a0fe26d/details?q=exit%20survey)) and the Technical and Further Education ([TAFE](https://data.gov.au/dataset/ds-qld-89970a3b-182b-41ea-aea2-6f9f17b5907e/details?q=exit%20survey)) Institute from Queensland, Australia.\n",
        "\n",
        "We are looking into the following questions posed by stakeholders:\n",
        "\n",
        "1. Are employees who only worked for the institutes for a short period of time resigning due to some kind of dissatisfaction? What about employees who have been there longer?\n",
        "2. Are younger employees resigning due to some kind of dissatisfaction? What about older employees?\n",
        "\n",
        "Below we will detail how we worked with the data as well as work to answer the questions from our stakeholders.\n"
      ]
    },
    {
      "cell_type": "code",
      "metadata": {
        "id": "m5lyjWaFGhkc",
        "outputId": "00ff719e-c6e3-45f3-b172-c57173c1f1f0",
        "colab": {
          "base_uri": "https://localhost:8080/",
          "height": 1000
        }
      },
      "source": [
        "import pandas as pd\n",
        "import numpy as np\n",
        "\n",
        "dete = pd.read_csv('https://github.com/mjshafer-1/ECO6100/raw/master/dete.csv')\n",
        "tafe = pd.read_csv('https://github.com/mjshafer-1/ECO6100/raw/master/tafe.csv',encoding='cp1252')\n",
        "print(dete.info())\n",
        "print('\\n')\n",
        "print(tafe.info())"
      ],
      "execution_count": 1,
      "outputs": [
        {
          "output_type": "stream",
          "text": [
            "<class 'pandas.core.frame.DataFrame'>\n",
            "RangeIndex: 822 entries, 0 to 821\n",
            "Data columns (total 56 columns):\n",
            " #   Column                               Non-Null Count  Dtype \n",
            "---  ------                               --------------  ----- \n",
            " 0   ID                                   822 non-null    int64 \n",
            " 1   SeparationType                       822 non-null    object\n",
            " 2   Cease Date                           822 non-null    object\n",
            " 3   DETE Start Date                      822 non-null    object\n",
            " 4   Role Start Date                      822 non-null    object\n",
            " 5   Position                             817 non-null    object\n",
            " 6   Classification                       455 non-null    object\n",
            " 7   Region                               822 non-null    object\n",
            " 8   Business Unit                        126 non-null    object\n",
            " 9   Employment Status                    817 non-null    object\n",
            " 10  Career move to public sector         822 non-null    bool  \n",
            " 11  Career move to private sector        822 non-null    bool  \n",
            " 12  Interpersonal conflicts              822 non-null    bool  \n",
            " 13  Job dissatisfaction                  822 non-null    bool  \n",
            " 14  Dissatisfaction with the department  822 non-null    bool  \n",
            " 15  Physical work environment            822 non-null    bool  \n",
            " 16  Lack of recognition                  822 non-null    bool  \n",
            " 17  Lack of job security                 822 non-null    bool  \n",
            " 18  Work location                        822 non-null    bool  \n",
            " 19  Employment conditions                822 non-null    bool  \n",
            " 20  Maternity/family                     822 non-null    bool  \n",
            " 21  Relocation                           822 non-null    bool  \n",
            " 22  Study/Travel                         822 non-null    bool  \n",
            " 23  Ill Health                           822 non-null    bool  \n",
            " 24  Traumatic incident                   822 non-null    bool  \n",
            " 25  Work life balance                    822 non-null    bool  \n",
            " 26  Workload                             822 non-null    bool  \n",
            " 27  None of the above                    822 non-null    bool  \n",
            " 28  Professional Development             808 non-null    object\n",
            " 29  Opportunities for promotion          735 non-null    object\n",
            " 30  Staff morale                         816 non-null    object\n",
            " 31  Workplace issue                      788 non-null    object\n",
            " 32  Physical environment                 817 non-null    object\n",
            " 33  Worklife balance                     815 non-null    object\n",
            " 34  Stress and pressure support          810 non-null    object\n",
            " 35  Performance of supervisor            813 non-null    object\n",
            " 36  Peer support                         812 non-null    object\n",
            " 37  Initiative                           813 non-null    object\n",
            " 38  Skills                               811 non-null    object\n",
            " 39  Coach                                767 non-null    object\n",
            " 40  Career Aspirations                   746 non-null    object\n",
            " 41  Feedback                             792 non-null    object\n",
            " 42  Further PD                           768 non-null    object\n",
            " 43  Communication                        814 non-null    object\n",
            " 44  My say                               812 non-null    object\n",
            " 45  Information                          816 non-null    object\n",
            " 46  Kept informed                        813 non-null    object\n",
            " 47  Wellness programs                    766 non-null    object\n",
            " 48  Health & Safety                      793 non-null    object\n",
            " 49  Gender                               798 non-null    object\n",
            " 50  Age                                  811 non-null    object\n",
            " 51  Aboriginal                           16 non-null     object\n",
            " 52  Torres Strait                        3 non-null      object\n",
            " 53  South Sea                            7 non-null      object\n",
            " 54  Disability                           23 non-null     object\n",
            " 55  NESB                                 32 non-null     object\n",
            "dtypes: bool(18), int64(1), object(37)\n",
            "memory usage: 258.6+ KB\n",
            "None\n",
            "\n",
            "\n",
            "<class 'pandas.core.frame.DataFrame'>\n",
            "RangeIndex: 702 entries, 0 to 701\n",
            "Data columns (total 72 columns):\n",
            " #   Column                                                                                                                                                         Non-Null Count  Dtype  \n",
            "---  ------                                                                                                                                                         --------------  -----  \n",
            " 0   Record ID                                                                                                                                                      702 non-null    int64  \n",
            " 1   Institute                                                                                                                                                      702 non-null    object \n",
            " 2   WorkArea                                                                                                                                                       702 non-null    object \n",
            " 3   CESSATION YEAR                                                                                                                                                 695 non-null    float64\n",
            " 4   Reason for ceasing employment                                                                                                                                  701 non-null    object \n",
            " 5   Contributing Factors. Career Move - Public Sector                                                                                                              437 non-null    object \n",
            " 6   Contributing Factors. Career Move - Private Sector                                                                                                             437 non-null    object \n",
            " 7   Contributing Factors. Career Move - Self-employment                                                                                                            437 non-null    object \n",
            " 8   Contributing Factors. Ill Health                                                                                                                               437 non-null    object \n",
            " 9   Contributing Factors. Maternity/Family                                                                                                                         437 non-null    object \n",
            " 10  Contributing Factors. Dissatisfaction                                                                                                                          437 non-null    object \n",
            " 11  Contributing Factors. Job Dissatisfaction                                                                                                                      437 non-null    object \n",
            " 12  Contributing Factors. Interpersonal Conflict                                                                                                                   437 non-null    object \n",
            " 13  Contributing Factors. Study                                                                                                                                    437 non-null    object \n",
            " 14  Contributing Factors. Travel                                                                                                                                   437 non-null    object \n",
            " 15  Contributing Factors. Other                                                                                                                                    437 non-null    object \n",
            " 16  Contributing Factors. NONE                                                                                                                                     437 non-null    object \n",
            " 17  Main Factor.     Which of these was the main factor for leaving?                                                                                               113 non-null    object \n",
            " 18  InstituteViews. Topic:1. I feel the senior leadership had a clear vision and direction                                                                         608 non-null    object \n",
            " 19  InstituteViews. Topic:2. I was given access to skills training to help me do my job better                                                                     613 non-null    object \n",
            " 20  InstituteViews. Topic:3. I was given adequate opportunities for personal development                                                                           610 non-null    object \n",
            " 21  InstituteViews. Topic:4. I was given adequate opportunities for promotion within %Institute]Q25LBL%                                                            608 non-null    object \n",
            " 22  InstituteViews. Topic:5. I felt the salary for the job was right for the responsibilities I had                                                                615 non-null    object \n",
            " 23  InstituteViews. Topic:6. The organisation recognised when staff did good work                                                                                  607 non-null    object \n",
            " 24  InstituteViews. Topic:7. Management was generally supportive of me                                                                                             614 non-null    object \n",
            " 25  InstituteViews. Topic:8. Management was generally supportive of my team                                                                                        608 non-null    object \n",
            " 26  InstituteViews. Topic:9. I was kept informed of the changes in the organisation which would affect me                                                          610 non-null    object \n",
            " 27  InstituteViews. Topic:10. Staff morale was positive within the Institute                                                                                       602 non-null    object \n",
            " 28  InstituteViews. Topic:11. If I had a workplace issue it was dealt with quickly                                                                                 601 non-null    object \n",
            " 29  InstituteViews. Topic:12. If I had a workplace issue it was dealt with efficiently                                                                             597 non-null    object \n",
            " 30  InstituteViews. Topic:13. If I had a workplace issue it was dealt with discreetly                                                                              601 non-null    object \n",
            " 31  WorkUnitViews. Topic:14. I was satisfied with the quality of the management and supervision within my work unit                                                609 non-null    object \n",
            " 32  WorkUnitViews. Topic:15. I worked well with my colleagues                                                                                                      605 non-null    object \n",
            " 33  WorkUnitViews. Topic:16. My job was challenging and interesting                                                                                                607 non-null    object \n",
            " 34  WorkUnitViews. Topic:17. I was encouraged to use my initiative in the course of my work                                                                        610 non-null    object \n",
            " 35  WorkUnitViews. Topic:18. I had sufficient contact with other people in my job                                                                                  613 non-null    object \n",
            " 36  WorkUnitViews. Topic:19. I was given adequate support and co-operation by my peers to enable me to do my job                                                   609 non-null    object \n",
            " 37  WorkUnitViews. Topic:20. I was able to use the full range of my skills in my job                                                                               609 non-null    object \n",
            " 38  WorkUnitViews. Topic:21. I was able to use the full range of my abilities in my job. ; Category:Level of Agreement; Question:YOUR VIEWS ABOUT YOUR WORK UNIT]  608 non-null    object \n",
            " 39  WorkUnitViews. Topic:22. I was able to use the full range of my knowledge in my job                                                                            608 non-null    object \n",
            " 40  WorkUnitViews. Topic:23. My job provided sufficient variety                                                                                                    611 non-null    object \n",
            " 41  WorkUnitViews. Topic:24. I was able to cope with the level of stress and pressure in my job                                                                    610 non-null    object \n",
            " 42  WorkUnitViews. Topic:25. My job allowed me to balance the demands of work and family to my satisfaction                                                        611 non-null    object \n",
            " 43  WorkUnitViews. Topic:26. My supervisor gave me adequate personal recognition and feedback on my performance                                                    606 non-null    object \n",
            " 44  WorkUnitViews. Topic:27. My working environment was satisfactory e.g. sufficient space, good lighting, suitable seating and working area                       610 non-null    object \n",
            " 45  WorkUnitViews. Topic:28. I was given the opportunity to mentor and coach others in order for me to pass on my skills and knowledge prior to my cessation date  609 non-null    object \n",
            " 46  WorkUnitViews. Topic:29. There was adequate communication between staff in my unit                                                                             603 non-null    object \n",
            " 47  WorkUnitViews. Topic:30. Staff morale was positive within my work unit                                                                                         606 non-null    object \n",
            " 48  Induction. Did you undertake Workplace Induction?                                                                                                              619 non-null    object \n",
            " 49  InductionInfo. Topic:Did you undertake a Corporate Induction?                                                                                                  432 non-null    object \n",
            " 50  InductionInfo. Topic:Did you undertake a Institute Induction?                                                                                                  483 non-null    object \n",
            " 51  InductionInfo. Topic: Did you undertake Team Induction?                                                                                                        440 non-null    object \n",
            " 52  InductionInfo. Face to Face Topic:Did you undertake a Corporate Induction; Category:How it was conducted?                                                      555 non-null    object \n",
            " 53  InductionInfo. On-line Topic:Did you undertake a Corporate Induction; Category:How it was conducted?                                                           555 non-null    object \n",
            " 54  InductionInfo. Induction Manual Topic:Did you undertake a Corporate Induction?                                                                                 555 non-null    object \n",
            " 55  InductionInfo. Face to Face Topic:Did you undertake a Institute Induction?                                                                                     530 non-null    object \n",
            " 56  InductionInfo. On-line Topic:Did you undertake a Institute Induction?                                                                                          555 non-null    object \n",
            " 57  InductionInfo. Induction Manual Topic:Did you undertake a Institute Induction?                                                                                 553 non-null    object \n",
            " 58  InductionInfo. Face to Face Topic: Did you undertake Team Induction; Category?                                                                                 555 non-null    object \n",
            " 59  InductionInfo. On-line Topic: Did you undertake Team Induction?process you undertook and how it was conducted.]                                                555 non-null    object \n",
            " 60  InductionInfo. Induction Manual Topic: Did you undertake Team Induction?                                                                                       555 non-null    object \n",
            " 61  Workplace. Topic:Did you and your Manager develop a Performance and Professional Development Plan (PPDP)?                                                      608 non-null    object \n",
            " 62  Workplace. Topic:Does your workplace promote a work culture free from all forms of unlawful discrimination?                                                    594 non-null    object \n",
            " 63  Workplace. Topic:Does your workplace promote and practice the principles of employment equity?                                                                 587 non-null    object \n",
            " 64  Workplace. Topic:Does your workplace value the diversity of its employees?                                                                                     586 non-null    object \n",
            " 65  Workplace. Topic:Would you recommend the Institute as an employer to others?                                                                                   581 non-null    object \n",
            " 66  Gender.     What is your Gender?                                                                                                                               596 non-null    object \n",
            " 67  CurrentAge.     Current Age                                                                                                                                    596 non-null    object \n",
            " 68  Employment Type.     Employment Type                                                                                                                           596 non-null    object \n",
            " 69  Classification.     Classification                                                                                                                             596 non-null    object \n",
            " 70  LengthofServiceOverall. Overall Length of Service at Institute (in years)                                                                                      596 non-null    object \n",
            " 71  LengthofServiceCurrent. Length of Service at current workplace (in years)                                                                                      596 non-null    object \n",
            "dtypes: float64(1), int64(1), object(70)\n",
            "memory usage: 395.0+ KB\n",
            "None\n"
          ],
          "name": "stdout"
        }
      ]
    },
    {
      "cell_type": "code",
      "metadata": {
        "id": "fMA4tMNXIZqO",
        "outputId": "948f2fbc-92f1-4bdb-80f7-79792c286c32",
        "colab": {
          "base_uri": "https://localhost:8080/",
          "height": 319
        }
      },
      "source": [
        "print(dete.head())\n",
        "print('\\n')\n",
        "print(tafe.head())"
      ],
      "execution_count": 2,
      "outputs": [
        {
          "output_type": "stream",
          "text": [
            "   ID                    SeparationType Cease Date  ... South Sea Disability NESB\n",
            "0   1             Ill Health Retirement    08/2012  ...       NaN        NaN  Yes\n",
            "1   2  Voluntary Early Retirement (VER)    08/2012  ...       NaN        NaN  NaN\n",
            "2   3  Voluntary Early Retirement (VER)    05/2012  ...       NaN        NaN  NaN\n",
            "3   4         Resignation-Other reasons    05/2012  ...       NaN        NaN  NaN\n",
            "4   5                    Age Retirement    05/2012  ...       NaN        NaN  NaN\n",
            "\n",
            "[5 rows x 56 columns]\n",
            "\n",
            "\n",
            "            Record ID  ... LengthofServiceCurrent. Length of Service at current workplace (in years)\n",
            "0  634133009996094000  ...                                                1-2                       \n",
            "1  634133654064531000  ...                                                NaN                       \n",
            "2  634138845606563000  ...                                                NaN                       \n",
            "3  634139903350000000  ...                                                NaN                       \n",
            "4  634146578511788000  ...                                                3-4                       \n",
            "\n",
            "[5 rows x 72 columns]\n"
          ],
          "name": "stdout"
        }
      ]
    },
    {
      "cell_type": "code",
      "metadata": {
        "id": "AKIdfke3NEQE",
        "outputId": "3ecda73b-ee71-4186-cefb-c5c4a0bb08c7",
        "colab": {
          "base_uri": "https://localhost:8080/",
          "height": 84
        }
      },
      "source": [
        "print(dete['Torres Strait'].isnull().sum())\n",
        "print('\\n')\n",
        "print(tafe['Main Factor. \\xa0\\xa0\\xa0\\xa0Which of these was the main factor for leaving?']\n",
        "      .isnull().sum())\n"
      ],
      "execution_count": 3,
      "outputs": [
        {
          "output_type": "stream",
          "text": [
            "819\n",
            "\n",
            "\n",
            "589\n"
          ],
          "name": "stdout"
        }
      ]
    },
    {
      "cell_type": "markdown",
      "metadata": {
        "id": "U8uaiK50KmtX"
      },
      "source": [
        "### Observations ###\n",
        "Both datasets have a large number of columns, many of which contain a lot of null values. above are the two worst columns, \"Torres Strait\" for the DETE set and \"Main Factor...\" for the TAFE set. We will have to look closesly at and work around these columns in order to analyze the data effectively. "
      ]
    },
    {
      "cell_type": "code",
      "metadata": {
        "id": "OSfJ8ml2Kf2g"
      },
      "source": [
        "dete = pd.read_csv('https://github.com/mjshafer-1/ECO6100/raw/master/dete.csv',\n",
        "                   na_values = 'Not Stated')\n",
        "dete_updated = dete.drop(dete.columns[28:49],axis = 1)\n",
        "tafe_updated = tafe.drop(tafe.columns[17:66],axis=1)\n"
      ],
      "execution_count": 4,
      "outputs": []
    },
    {
      "cell_type": "markdown",
      "metadata": {
        "id": "78eWV8a8OgC8"
      },
      "source": [
        "## Changes to Data ##\n",
        "We have changed some of the data in the DETE list to show as NaN, as opposed to previously saying Not Stated. Further, we have removed some of the extraneous columns from both datasets to make our analysis more streamlined. "
      ]
    },
    {
      "cell_type": "code",
      "metadata": {
        "id": "XLjoQaymOYDx",
        "outputId": "acde59a1-f032-4dca-c69c-302c820d438d",
        "colab": {
          "base_uri": "https://localhost:8080/",
          "height": 286
        }
      },
      "source": [
        "dete_updated.columns = dete_updated.columns.str.replace(' ','_').str.strip().str.lower()\n",
        "tafe_updated.rename({'Record ID': 'id',\n",
        "                     'CESSATION YEAR': 'cease_date',\n",
        "                     'Reason for ceasing employment': 'separationtype',\n",
        "                     'Gender. What is your Gender?': 'gender',\n",
        "                     'CurrentAge. Current Age': 'age',\n",
        "                     'Employment Type. Employment Type': 'employment_status',\n",
        "                     'Classification. Classification': 'position',\n",
        "                     'LengthofServiceOverall. Overall Length of Service at Institute (in years)': 'institute_service',\n",
        "                     'LengthofServiceCurrent. Length of Service at current workplace (in years)': 'role_service',\n",
        "                     'CurrentAge. \\xa0\\xa0\\xa0\\xa0Current Age':'age'},axis=1,inplace=True)\n",
        "print(dete_updated.head())\n",
        "print(tafe_updated.head())"
      ],
      "execution_count": 5,
      "outputs": [
        {
          "output_type": "stream",
          "text": [
            "   id                    separationtype cease_date  ...  south_sea  disability nesb\n",
            "0   1             Ill Health Retirement    08/2012  ...        NaN         NaN  Yes\n",
            "1   2  Voluntary Early Retirement (VER)    08/2012  ...        NaN         NaN  NaN\n",
            "2   3  Voluntary Early Retirement (VER)    05/2012  ...        NaN         NaN  NaN\n",
            "3   4         Resignation-Other reasons    05/2012  ...        NaN         NaN  NaN\n",
            "4   5                    Age Retirement    05/2012  ...        NaN         NaN  NaN\n",
            "\n",
            "[5 rows x 35 columns]\n",
            "                   id  ... role_service\n",
            "0  634133009996094000  ...          1-2\n",
            "1  634133654064531000  ...          NaN\n",
            "2  634138845606563000  ...          NaN\n",
            "3  634139903350000000  ...          NaN\n",
            "4  634146578511788000  ...          3-4\n",
            "\n",
            "[5 rows x 23 columns]\n"
          ],
          "name": "stdout"
        }
      ]
    },
    {
      "cell_type": "markdown",
      "metadata": {
        "id": "dZC0w-12R9pD"
      },
      "source": [
        "## Renaming Columns ##\n",
        "Above we have renamed many of the columns in order to make our code easier to both read and write. This will also make it so any visualizations will be easily understood."
      ]
    },
    {
      "cell_type": "code",
      "metadata": {
        "id": "VCFdRMQOQfwK",
        "outputId": "b86b4235-266f-41be-a5ba-6dd18bd750b3",
        "colab": {
          "base_uri": "https://localhost:8080/",
          "height": 336
        }
      },
      "source": [
        "print(dete_updated['separationtype'].value_counts())\n",
        "print('\\n')\n",
        "print(tafe_updated['separationtype'].value_counts())\n"
      ],
      "execution_count": 6,
      "outputs": [
        {
          "output_type": "stream",
          "text": [
            "Age Retirement                          285\n",
            "Resignation-Other reasons               150\n",
            "Resignation-Other employer               91\n",
            "Resignation-Move overseas/interstate     70\n",
            "Voluntary Early Retirement (VER)         67\n",
            "Ill Health Retirement                    61\n",
            "Other                                    49\n",
            "Contract Expired                         34\n",
            "Termination                              15\n",
            "Name: separationtype, dtype: int64\n",
            "\n",
            "\n",
            "Resignation                 340\n",
            "Contract Expired            127\n",
            "Retrenchment/ Redundancy    104\n",
            "Retirement                   82\n",
            "Transfer                     25\n",
            "Termination                  23\n",
            "Name: separationtype, dtype: int64\n"
          ],
          "name": "stdout"
        }
      ]
    },
    {
      "cell_type": "code",
      "metadata": {
        "id": "keiqE-XQTYTn",
        "outputId": "70a2b43b-85e4-43b4-a535-7eb8591245f5",
        "colab": {
          "base_uri": "https://localhost:8080/",
          "height": 50
        }
      },
      "source": [
        "tafe_resignations = tafe_updated[tafe_updated['separationtype']=='Resignation']\n",
        "tafe_resignations['separationtype'].value_counts()"
      ],
      "execution_count": 7,
      "outputs": [
        {
          "output_type": "execute_result",
          "data": {
            "text/plain": [
              "Resignation    340\n",
              "Name: separationtype, dtype: int64"
            ]
          },
          "metadata": {
            "tags": []
          },
          "execution_count": 7
        }
      ]
    },
    {
      "cell_type": "code",
      "metadata": {
        "id": "jxcVmqacXR3W",
        "outputId": "252f2db0-58ee-4502-fda4-33719c823b22",
        "colab": {
          "base_uri": "https://localhost:8080/",
          "height": 67
        }
      },
      "source": [
        "mask = ((dete_updated['separationtype'] =='Resignation-Other reasons') | (dete_updated['separationtype'] == 'Resignation-Other employer') | (dete_updated['separationtype'] == 'Resignation-Move overseas/interstate'))\n",
        "mask.value_counts()"
      ],
      "execution_count": 8,
      "outputs": [
        {
          "output_type": "execute_result",
          "data": {
            "text/plain": [
              "False    511\n",
              "True     311\n",
              "Name: separationtype, dtype: int64"
            ]
          },
          "metadata": {
            "tags": []
          },
          "execution_count": 8
        }
      ]
    },
    {
      "cell_type": "code",
      "metadata": {
        "id": "UH0kJ4ghUoHg",
        "outputId": "753cda81-9cd6-4f5b-ef8a-872c6fd07ea1",
        "colab": {
          "base_uri": "https://localhost:8080/",
          "height": 84
        }
      },
      "source": [
        "dete_resignations = dete_updated[mask]\n",
        "dete_resignations['separationtype'].value_counts()              "
      ],
      "execution_count": 9,
      "outputs": [
        {
          "output_type": "execute_result",
          "data": {
            "text/plain": [
              "Resignation-Other reasons               150\n",
              "Resignation-Other employer               91\n",
              "Resignation-Move overseas/interstate     70\n",
              "Name: separationtype, dtype: int64"
            ]
          },
          "metadata": {
            "tags": []
          },
          "execution_count": 9
        }
      ]
    },
    {
      "cell_type": "markdown",
      "metadata": {
        "id": "DjYSRcmaZr9v"
      },
      "source": [
        "## Filtering Data ##\n",
        "We chose to include only rows that had individuals that chose to resign. This leaves us with 311 rows in the DETE set and 340 rows in the TAFE set. This will help us be more focused in our analysis of these datasets."
      ]
    },
    {
      "cell_type": "code",
      "metadata": {
        "id": "vt1suLsGVy47",
        "outputId": "83e75214-7649-4371-f5ff-2042f7de8cb5",
        "colab": {
          "base_uri": "https://localhost:8080/",
          "height": 302
        }
      },
      "source": [
        "dete_resignations['cease_date'].value_counts()"
      ],
      "execution_count": 10,
      "outputs": [
        {
          "output_type": "execute_result",
          "data": {
            "text/plain": [
              "2012       126\n",
              "2013        74\n",
              "01/2014     22\n",
              "12/2013     17\n",
              "06/2013     14\n",
              "09/2013     11\n",
              "11/2013      9\n",
              "07/2013      9\n",
              "10/2013      6\n",
              "08/2013      4\n",
              "05/2013      2\n",
              "05/2012      2\n",
              "07/2012      1\n",
              "09/2010      1\n",
              "2010         1\n",
              "07/2006      1\n",
              "Name: cease_date, dtype: int64"
            ]
          },
          "metadata": {
            "tags": []
          },
          "execution_count": 10
        }
      ]
    },
    {
      "cell_type": "code",
      "metadata": {
        "id": "y5yzrPM_p1xr"
      },
      "source": [
        "dete_resignations = dete_resignations.copy()"
      ],
      "execution_count": 11,
      "outputs": []
    },
    {
      "cell_type": "code",
      "metadata": {
        "id": "q1Zo_vlHan0T"
      },
      "source": [
        "pattern = r\"(?P<Year>20[0-9]{2})\"\n",
        "dete_resignations['cease_date'] = dete_resignations['cease_date'].str.extract(pattern,expand=True).astype(float)"
      ],
      "execution_count": 12,
      "outputs": []
    },
    {
      "cell_type": "code",
      "metadata": {
        "id": "CKnOMseMbt7c",
        "outputId": "b207f870-861d-4fc0-fad8-358cbeeacfe8",
        "colab": {
          "base_uri": "https://localhost:8080/",
          "height": 722
        }
      },
      "source": [
        "dete_resignations['dete_start_date'].value_counts()"
      ],
      "execution_count": 13,
      "outputs": [
        {
          "output_type": "execute_result",
          "data": {
            "text/plain": [
              "2011.0    24\n",
              "2008.0    22\n",
              "2007.0    21\n",
              "2012.0    21\n",
              "2010.0    17\n",
              "2005.0    15\n",
              "2004.0    14\n",
              "2009.0    13\n",
              "2006.0    13\n",
              "2013.0    10\n",
              "2000.0     9\n",
              "1999.0     8\n",
              "1996.0     6\n",
              "2002.0     6\n",
              "1992.0     6\n",
              "1998.0     6\n",
              "2003.0     6\n",
              "1994.0     6\n",
              "1993.0     5\n",
              "1990.0     5\n",
              "1980.0     5\n",
              "1997.0     5\n",
              "1991.0     4\n",
              "1989.0     4\n",
              "1988.0     4\n",
              "1995.0     4\n",
              "2001.0     3\n",
              "1985.0     3\n",
              "1986.0     3\n",
              "1983.0     2\n",
              "1976.0     2\n",
              "1974.0     2\n",
              "1971.0     1\n",
              "1972.0     1\n",
              "1984.0     1\n",
              "1982.0     1\n",
              "1987.0     1\n",
              "1975.0     1\n",
              "1973.0     1\n",
              "1977.0     1\n",
              "1963.0     1\n",
              "Name: dete_start_date, dtype: int64"
            ]
          },
          "metadata": {
            "tags": []
          },
          "execution_count": 13
        }
      ]
    },
    {
      "cell_type": "code",
      "metadata": {
        "id": "1PU8VjPmdUxt",
        "outputId": "b9160033-d360-4b8f-c1ca-52299bc1168c",
        "colab": {
          "base_uri": "https://localhost:8080/",
          "height": 118
        }
      },
      "source": [
        "dete_resignations['cease_date'].value_counts()"
      ],
      "execution_count": 14,
      "outputs": [
        {
          "output_type": "execute_result",
          "data": {
            "text/plain": [
              "2013.0    146\n",
              "2012.0    129\n",
              "2014.0     22\n",
              "2010.0      2\n",
              "2006.0      1\n",
              "Name: cease_date, dtype: int64"
            ]
          },
          "metadata": {
            "tags": []
          },
          "execution_count": 14
        }
      ]
    },
    {
      "cell_type": "code",
      "metadata": {
        "id": "9K72fcetde1T",
        "outputId": "793852ea-64c9-443e-e1a5-0a457d0262c4",
        "colab": {
          "base_uri": "https://localhost:8080/",
          "height": 118
        }
      },
      "source": [
        "tafe_resignations['cease_date'].value_counts()"
      ],
      "execution_count": 15,
      "outputs": [
        {
          "output_type": "execute_result",
          "data": {
            "text/plain": [
              "2011.0    116\n",
              "2012.0     94\n",
              "2010.0     68\n",
              "2013.0     55\n",
              "2009.0      2\n",
              "Name: cease_date, dtype: int64"
            ]
          },
          "metadata": {
            "tags": []
          },
          "execution_count": 15
        }
      ]
    },
    {
      "cell_type": "markdown",
      "metadata": {
        "id": "l0Y43ljnxYq-"
      },
      "source": [
        "## Examining Dates ##\n",
        "After standardizing all of the dates to be 4 digit years saved as floats, we can see that both datasets are relatively normal, with the exception of a few datapoints that look a little strange. "
      ]
    },
    {
      "cell_type": "code",
      "metadata": {
        "id": "lZ7hv94Kd0Z8",
        "outputId": "6c9a2a1d-6006-498a-8c88-5985b12f3346",
        "colab": {
          "base_uri": "https://localhost:8080/",
          "height": 739
        }
      },
      "source": [
        "dete_resignations['institute_service'] = dete_resignations['cease_date'] - dete_resignations['dete_start_date']\n",
        "dete_resignations['institute_service'].value_counts()"
      ],
      "execution_count": 16,
      "outputs": [
        {
          "output_type": "execute_result",
          "data": {
            "text/plain": [
              "5.0     23\n",
              "1.0     22\n",
              "3.0     20\n",
              "0.0     20\n",
              "6.0     17\n",
              "4.0     16\n",
              "9.0     14\n",
              "2.0     14\n",
              "7.0     13\n",
              "13.0     8\n",
              "8.0      8\n",
              "20.0     7\n",
              "15.0     7\n",
              "10.0     6\n",
              "22.0     6\n",
              "14.0     6\n",
              "17.0     6\n",
              "12.0     6\n",
              "16.0     5\n",
              "18.0     5\n",
              "23.0     4\n",
              "11.0     4\n",
              "24.0     4\n",
              "39.0     3\n",
              "19.0     3\n",
              "21.0     3\n",
              "32.0     3\n",
              "28.0     2\n",
              "26.0     2\n",
              "25.0     2\n",
              "30.0     2\n",
              "36.0     2\n",
              "29.0     1\n",
              "33.0     1\n",
              "42.0     1\n",
              "27.0     1\n",
              "41.0     1\n",
              "35.0     1\n",
              "38.0     1\n",
              "34.0     1\n",
              "49.0     1\n",
              "31.0     1\n",
              "Name: institute_service, dtype: int64"
            ]
          },
          "metadata": {
            "tags": []
          },
          "execution_count": 16
        }
      ]
    },
    {
      "cell_type": "markdown",
      "metadata": {
        "id": "IW2jmZG7yvPi"
      },
      "source": [
        "## Adding institute_service column ##\n",
        "The column added above shows us how many years each employee was with DETE. We will now be able to use this data directly for a more in-depth analysis."
      ]
    },
    {
      "cell_type": "code",
      "metadata": {
        "id": "bfzL3v1SyL-Q",
        "outputId": "0d0b3a2c-ce1b-4e28-c3ee-1795bcc4f464",
        "colab": {
          "base_uri": "https://localhost:8080/",
          "height": 118
        }
      },
      "source": [
        "print(tafe_resignations['Contributing Factors. Dissatisfaction'].value_counts())\n",
        "print(tafe_resignations['Contributing Factors. Job Dissatisfaction'].value_counts())"
      ],
      "execution_count": 17,
      "outputs": [
        {
          "output_type": "stream",
          "text": [
            "-                                         277\n",
            "Contributing Factors. Dissatisfaction      55\n",
            "Name: Contributing Factors. Dissatisfaction, dtype: int64\n",
            "-                      270\n",
            "Job Dissatisfaction     62\n",
            "Name: Contributing Factors. Job Dissatisfaction, dtype: int64\n"
          ],
          "name": "stdout"
        }
      ]
    },
    {
      "cell_type": "code",
      "metadata": {
        "id": "I8Zw6fqh0Mkm"
      },
      "source": [
        "def update_vals(val):\n",
        "  if pd.isnull(val):\n",
        "    return np.nan\n",
        "  elif val == '-':\n",
        "    return False\n",
        "  else:\n",
        "    return True"
      ],
      "execution_count": 18,
      "outputs": []
    },
    {
      "cell_type": "code",
      "metadata": {
        "id": "Dgjq8_ZR01_F"
      },
      "source": [
        "tafe_resignations = tafe_resignations.copy()\n",
        "tafe_resignations['dissatisfied'] = (tafe_resignations[['Contributing Factors. Dissatisfaction','Contributing Factors. Job Dissatisfaction']]\n",
        "                                     .applymap(update_vals).any(axis=1,skipna=False))"
      ],
      "execution_count": 19,
      "outputs": []
    },
    {
      "cell_type": "code",
      "metadata": {
        "id": "gZ3XaPHF2ReJ",
        "outputId": "fa7b9147-df74-494c-c372-69781c57d2d2",
        "colab": {
          "base_uri": "https://localhost:8080/",
          "height": 286
        }
      },
      "source": [
        "dete_list = ['job_dissatisfaction',\n",
        "             'dissatisfaction_with_the_department',\n",
        "             'physical_work_environment',\n",
        "             'lack_of_recognition',\n",
        "             'lack_of_job_security',\n",
        "             'work_location',\n",
        "             'employment_conditions',\n",
        "             'work_life_balance',\n",
        "             'workload']\n",
        "dete_resignations[dete_list].info()"
      ],
      "execution_count": 20,
      "outputs": [
        {
          "output_type": "stream",
          "text": [
            "<class 'pandas.core.frame.DataFrame'>\n",
            "Int64Index: 311 entries, 3 to 821\n",
            "Data columns (total 9 columns):\n",
            " #   Column                               Non-Null Count  Dtype\n",
            "---  ------                               --------------  -----\n",
            " 0   job_dissatisfaction                  311 non-null    bool \n",
            " 1   dissatisfaction_with_the_department  311 non-null    bool \n",
            " 2   physical_work_environment            311 non-null    bool \n",
            " 3   lack_of_recognition                  311 non-null    bool \n",
            " 4   lack_of_job_security                 311 non-null    bool \n",
            " 5   work_location                        311 non-null    bool \n",
            " 6   employment_conditions                311 non-null    bool \n",
            " 7   work_life_balance                    311 non-null    bool \n",
            " 8   workload                             311 non-null    bool \n",
            "dtypes: bool(9)\n",
            "memory usage: 5.2 KB\n"
          ],
          "name": "stdout"
        }
      ]
    },
    {
      "cell_type": "code",
      "metadata": {
        "id": "RX-gj3Rs87nu"
      },
      "source": [
        "dete_resignations = dete_resignations.copy()\n",
        "dete_resignations['dissatisfied'] = dete_resignations[dete_list].any(axis=1,skipna=False)"
      ],
      "execution_count": 21,
      "outputs": []
    },
    {
      "cell_type": "code",
      "metadata": {
        "id": "-BNfa8EG9UHN",
        "outputId": "6eed843a-936f-409f-9256-1adcdd44d5bf",
        "colab": {
          "base_uri": "https://localhost:8080/",
          "height": 151
        }
      },
      "source": [
        "print(dete_resignations['dissatisfied'].value_counts())\n",
        "print('\\n')\n",
        "print(tafe_resignations['dissatisfied'].value_counts())"
      ],
      "execution_count": 22,
      "outputs": [
        {
          "output_type": "stream",
          "text": [
            "False    162\n",
            "True     149\n",
            "Name: dissatisfied, dtype: int64\n",
            "\n",
            "\n",
            "False    241\n",
            "True      91\n",
            "Name: dissatisfied, dtype: int64\n"
          ],
          "name": "stdout"
        }
      ]
    },
    {
      "cell_type": "markdown",
      "metadata": {
        "id": "V-WOH10q9mQz"
      },
      "source": [
        "## Finding Dissatisfied Workers ##\n",
        "The above code looks through existing data to find which of the employees resigned due to job dissatisfaction, for one reason or another. This creates a new column of data that simply says True if any other column indicates dissatisfaction with the job. We can see from the value_count on each set that in most cases job dissatisfaction was not a reason for resigning, but it was more prevelant in DETE than in TAFE."
      ]
    },
    {
      "cell_type": "code",
      "metadata": {
        "id": "zB3RM6g69knD"
      },
      "source": [
        "dete_resignations['institute']= 'DETE'\n",
        "tafe_resignations['institute']= 'TAFE'"
      ],
      "execution_count": 23,
      "outputs": []
    },
    {
      "cell_type": "code",
      "metadata": {
        "id": "lZFcsvtj_lMG",
        "outputId": "2b563fba-68e9-4395-8534-1b5784aa81bb",
        "colab": {
          "base_uri": "https://localhost:8080/",
          "height": 1000
        }
      },
      "source": [
        "combined = pd.concat([dete_resignations,tafe_resignations])\n",
        "combined.info()"
      ],
      "execution_count": 24,
      "outputs": [
        {
          "output_type": "stream",
          "text": [
            "<class 'pandas.core.frame.DataFrame'>\n",
            "Int64Index: 651 entries, 3 to 701\n",
            "Data columns (total 56 columns):\n",
            " #   Column                                               Non-Null Count  Dtype  \n",
            "---  ------                                               --------------  -----  \n",
            " 0   id                                                   651 non-null    int64  \n",
            " 1   separationtype                                       651 non-null    object \n",
            " 2   cease_date                                           635 non-null    float64\n",
            " 3   dete_start_date                                      283 non-null    float64\n",
            " 4   role_start_date                                      271 non-null    float64\n",
            " 5   position                                             308 non-null    object \n",
            " 6   classification                                       161 non-null    object \n",
            " 7   region                                               265 non-null    object \n",
            " 8   business_unit                                        32 non-null     object \n",
            " 9   employment_status                                    307 non-null    object \n",
            " 10  career_move_to_public_sector                         311 non-null    object \n",
            " 11  career_move_to_private_sector                        311 non-null    object \n",
            " 12  interpersonal_conflicts                              311 non-null    object \n",
            " 13  job_dissatisfaction                                  311 non-null    object \n",
            " 14  dissatisfaction_with_the_department                  311 non-null    object \n",
            " 15  physical_work_environment                            311 non-null    object \n",
            " 16  lack_of_recognition                                  311 non-null    object \n",
            " 17  lack_of_job_security                                 311 non-null    object \n",
            " 18  work_location                                        311 non-null    object \n",
            " 19  employment_conditions                                311 non-null    object \n",
            " 20  maternity/family                                     311 non-null    object \n",
            " 21  relocation                                           311 non-null    object \n",
            " 22  study/travel                                         311 non-null    object \n",
            " 23  ill_health                                           311 non-null    object \n",
            " 24  traumatic_incident                                   311 non-null    object \n",
            " 25  work_life_balance                                    311 non-null    object \n",
            " 26  workload                                             311 non-null    object \n",
            " 27  none_of_the_above                                    311 non-null    object \n",
            " 28  gender                                               302 non-null    object \n",
            " 29  age                                                  596 non-null    object \n",
            " 30  aboriginal                                           7 non-null      object \n",
            " 31  torres_strait                                        0 non-null      object \n",
            " 32  south_sea                                            3 non-null      object \n",
            " 33  disability                                           8 non-null      object \n",
            " 34  nesb                                                 9 non-null      object \n",
            " 35  institute_service                                    563 non-null    object \n",
            " 36  dissatisfied                                         643 non-null    object \n",
            " 37  institute                                            651 non-null    object \n",
            " 38  Institute                                            340 non-null    object \n",
            " 39  WorkArea                                             340 non-null    object \n",
            " 40  Contributing Factors. Career Move - Public Sector    332 non-null    object \n",
            " 41  Contributing Factors. Career Move - Private Sector   332 non-null    object \n",
            " 42  Contributing Factors. Career Move - Self-employment  332 non-null    object \n",
            " 43  Contributing Factors. Ill Health                     332 non-null    object \n",
            " 44  Contributing Factors. Maternity/Family               332 non-null    object \n",
            " 45  Contributing Factors. Dissatisfaction                332 non-null    object \n",
            " 46  Contributing Factors. Job Dissatisfaction            332 non-null    object \n",
            " 47  Contributing Factors. Interpersonal Conflict         332 non-null    object \n",
            " 48  Contributing Factors. Study                          332 non-null    object \n",
            " 49  Contributing Factors. Travel                         332 non-null    object \n",
            " 50  Contributing Factors. Other                          332 non-null    object \n",
            " 51  Contributing Factors. NONE                           332 non-null    object \n",
            " 52  Gender.     What is your Gender?                     290 non-null    object \n",
            " 53  Employment Type.     Employment Type                 290 non-null    object \n",
            " 54  Classification.     Classification                   290 non-null    object \n",
            " 55  role_service                                         290 non-null    object \n",
            "dtypes: float64(3), int64(1), object(52)\n",
            "memory usage: 289.9+ KB\n"
          ],
          "name": "stdout"
        }
      ]
    },
    {
      "cell_type": "code",
      "metadata": {
        "id": "xVLIoyhYAyOd",
        "outputId": "5dc42dc8-8ca8-4ac4-f904-2017c1caeea4",
        "colab": {
          "base_uri": "https://localhost:8080/",
          "height": 252
        }
      },
      "source": [
        "combined_u = combined.dropna(axis = 1, thresh = 500)\n",
        "combined_u.info()"
      ],
      "execution_count": 25,
      "outputs": [
        {
          "output_type": "stream",
          "text": [
            "<class 'pandas.core.frame.DataFrame'>\n",
            "Int64Index: 651 entries, 3 to 701\n",
            "Data columns (total 7 columns):\n",
            " #   Column             Non-Null Count  Dtype  \n",
            "---  ------             --------------  -----  \n",
            " 0   id                 651 non-null    int64  \n",
            " 1   separationtype     651 non-null    object \n",
            " 2   cease_date         635 non-null    float64\n",
            " 3   age                596 non-null    object \n",
            " 4   institute_service  563 non-null    object \n",
            " 5   dissatisfied       643 non-null    object \n",
            " 6   institute          651 non-null    object \n",
            "dtypes: float64(1), int64(1), object(5)\n",
            "memory usage: 40.7+ KB\n"
          ],
          "name": "stdout"
        }
      ]
    },
    {
      "cell_type": "markdown",
      "metadata": {
        "id": "sA5H_aDQBOXS"
      },
      "source": [
        "## Combining and Clearing Data ##\n",
        "Above, we combine the two datasets into a single DataFrame \"Combined\" so that we can fully analyze all of the data present. Looking at \"Combined\", it is clear that many of the columns contain little information, especially between the institutes. We chose to remove any column that has more than 500 null values, since they do not provide us enough information to analyze. We are now down to a more reasonable 7 columns and 651 rows for our final analysis."
      ]
    },
    {
      "cell_type": "code",
      "metadata": {
        "id": "JXfEybiuBGq1",
        "outputId": "63f26325-8015-4efc-869b-97d48295c037",
        "colab": {
          "base_uri": "https://localhost:8080/",
          "height": 874
        }
      },
      "source": [
        "combined_u = combined_u.copy()\n",
        "combined_u['institute_service'] = combined_u['institute_service'].astype(str)\n",
        "combined_u['institute_service'].value_counts()"
      ],
      "execution_count": 26,
      "outputs": [
        {
          "output_type": "execute_result",
          "data": {
            "text/plain": [
              "nan                   88\n",
              "Less than 1 year      73\n",
              "1-2                   64\n",
              "3-4                   63\n",
              "5-6                   33\n",
              "11-20                 26\n",
              "5.0                   23\n",
              "1.0                   22\n",
              "7-10                  21\n",
              "3.0                   20\n",
              "0.0                   20\n",
              "6.0                   17\n",
              "4.0                   16\n",
              "2.0                   14\n",
              "9.0                   14\n",
              "7.0                   13\n",
              "More than 20 years    10\n",
              "8.0                    8\n",
              "13.0                   8\n",
              "20.0                   7\n",
              "15.0                   7\n",
              "17.0                   6\n",
              "22.0                   6\n",
              "12.0                   6\n",
              "10.0                   6\n",
              "14.0                   6\n",
              "16.0                   5\n",
              "18.0                   5\n",
              "24.0                   4\n",
              "11.0                   4\n",
              "23.0                   4\n",
              "19.0                   3\n",
              "32.0                   3\n",
              "39.0                   3\n",
              "21.0                   3\n",
              "26.0                   2\n",
              "28.0                   2\n",
              "30.0                   2\n",
              "36.0                   2\n",
              "25.0                   2\n",
              "31.0                   1\n",
              "41.0                   1\n",
              "29.0                   1\n",
              "42.0                   1\n",
              "38.0                   1\n",
              "27.0                   1\n",
              "33.0                   1\n",
              "35.0                   1\n",
              "34.0                   1\n",
              "49.0                   1\n",
              "Name: institute_service, dtype: int64"
            ]
          },
          "metadata": {
            "tags": []
          },
          "execution_count": 26
        }
      ]
    },
    {
      "cell_type": "code",
      "metadata": {
        "id": "OvY9V97DDjiw",
        "outputId": "bfb0d59e-74a8-4272-fc45-251f99a1d4b7",
        "colab": {
          "base_uri": "https://localhost:8080/",
          "height": 739
        }
      },
      "source": [
        "combined_u['institute_service_u'] = combined_u['institute_service'].str.extract(r'(\\d+)').astype(float)\n",
        "combined_u['institute_service_u'].value_counts()"
      ],
      "execution_count": 27,
      "outputs": [
        {
          "output_type": "execute_result",
          "data": {
            "text/plain": [
              "1.0     159\n",
              "3.0      83\n",
              "5.0      56\n",
              "7.0      34\n",
              "11.0     30\n",
              "0.0      20\n",
              "20.0     17\n",
              "6.0      17\n",
              "4.0      16\n",
              "9.0      14\n",
              "2.0      14\n",
              "13.0      8\n",
              "8.0       8\n",
              "15.0      7\n",
              "17.0      6\n",
              "10.0      6\n",
              "12.0      6\n",
              "14.0      6\n",
              "22.0      6\n",
              "16.0      5\n",
              "18.0      5\n",
              "24.0      4\n",
              "23.0      4\n",
              "39.0      3\n",
              "19.0      3\n",
              "21.0      3\n",
              "32.0      3\n",
              "28.0      2\n",
              "36.0      2\n",
              "25.0      2\n",
              "30.0      2\n",
              "26.0      2\n",
              "29.0      1\n",
              "38.0      1\n",
              "42.0      1\n",
              "27.0      1\n",
              "41.0      1\n",
              "35.0      1\n",
              "49.0      1\n",
              "34.0      1\n",
              "33.0      1\n",
              "31.0      1\n",
              "Name: institute_service_u, dtype: int64"
            ]
          },
          "metadata": {
            "tags": []
          },
          "execution_count": 27
        }
      ]
    },
    {
      "cell_type": "code",
      "metadata": {
        "id": "Y1ZrRcgtFLPg",
        "outputId": "fe06a830-7788-47b8-d665-8314cfbb3280",
        "colab": {
          "base_uri": "https://localhost:8080/",
          "height": 118
        }
      },
      "source": [
        "def career_stage(year):\n",
        "  if pd.isnull(year):\n",
        "    return np.nan\n",
        "  elif year >= 11:\n",
        "    return 'Veteran'\n",
        "  elif 7 <= year <=10:\n",
        "    return 'Established'\n",
        "  elif 3<= year <= 6:\n",
        "    return 'Experienced'\n",
        "  else:\n",
        "    return 'New'\n",
        "combined_u['service_cat']= combined_u['institute_service_u'].apply(career_stage)\n",
        "combined_u['service_cat'].value_counts(dropna=False)"
      ],
      "execution_count": 28,
      "outputs": [
        {
          "output_type": "execute_result",
          "data": {
            "text/plain": [
              "New            193\n",
              "Experienced    172\n",
              "Veteran        136\n",
              "NaN             88\n",
              "Established     62\n",
              "Name: service_cat, dtype: int64"
            ]
          },
          "metadata": {
            "tags": []
          },
          "execution_count": 28
        }
      ]
    },
    {
      "cell_type": "markdown",
      "metadata": {
        "id": "qxwRb_2NIWwh"
      },
      "source": [
        "## Categorizing Service Length ##\n",
        "The above code looks through the institute_service column and standardizes to a float. It then categorizes the data by the below criteria:\n",
        "\n",
        "| Name | Criteria |\n",
        "| --- | --- |\n",
        "| New | Less than 3 years at a company |\n",
        "| Experienced | 3-6 years at a company |\n",
        "| Established | 7-10 years at a company |\n",
        "| Veteran | 11 or more years at a company |\n",
        "\n",
        "These groups will make it easier for us to both analyze the data, as well as reporting our findings. "
      ]
    },
    {
      "cell_type": "code",
      "metadata": {
        "id": "A1Z1T_pFIRq_",
        "outputId": "c0cdbc62-e455-487d-a63b-e15d4f83e929",
        "colab": {
          "base_uri": "https://localhost:8080/",
          "height": 84
        }
      },
      "source": [
        "combined_u['dissatisfied'].value_counts(dropna=False)"
      ],
      "execution_count": 29,
      "outputs": [
        {
          "output_type": "execute_result",
          "data": {
            "text/plain": [
              "False    403\n",
              "True     240\n",
              "NaN        8\n",
              "Name: dissatisfied, dtype: int64"
            ]
          },
          "metadata": {
            "tags": []
          },
          "execution_count": 29
        }
      ]
    },
    {
      "cell_type": "code",
      "metadata": {
        "id": "TCblAav_J0Xd",
        "outputId": "1bf78dfe-565d-42b7-a45e-13e5386a704c",
        "colab": {
          "base_uri": "https://localhost:8080/",
          "height": 218
        }
      },
      "source": [
        "combined_u['dissatisfied'].fillna(False)"
      ],
      "execution_count": 30,
      "outputs": [
        {
          "output_type": "execute_result",
          "data": {
            "text/plain": [
              "3      False\n",
              "5       True\n",
              "8      False\n",
              "9       True\n",
              "11     False\n",
              "       ...  \n",
              "696    False\n",
              "697    False\n",
              "698    False\n",
              "699    False\n",
              "701    False\n",
              "Name: dissatisfied, Length: 651, dtype: bool"
            ]
          },
          "metadata": {
            "tags": []
          },
          "execution_count": 30
        }
      ]
    },
    {
      "cell_type": "code",
      "metadata": {
        "id": "iYA5JQLfNWvZ",
        "outputId": "91bd487f-a0c2-4875-caaf-6cbddedd9325",
        "colab": {
          "base_uri": "https://localhost:8080/",
          "height": 286
        }
      },
      "source": [
        "combined_u['dissatisfied'] = combined_u['dissatisfied'].astype(bool)\n",
        "combined_u.info()"
      ],
      "execution_count": 31,
      "outputs": [
        {
          "output_type": "stream",
          "text": [
            "<class 'pandas.core.frame.DataFrame'>\n",
            "Int64Index: 651 entries, 3 to 701\n",
            "Data columns (total 9 columns):\n",
            " #   Column               Non-Null Count  Dtype  \n",
            "---  ------               --------------  -----  \n",
            " 0   id                   651 non-null    int64  \n",
            " 1   separationtype       651 non-null    object \n",
            " 2   cease_date           635 non-null    float64\n",
            " 3   age                  596 non-null    object \n",
            " 4   institute_service    651 non-null    object \n",
            " 5   dissatisfied         651 non-null    bool   \n",
            " 6   institute            651 non-null    object \n",
            " 7   institute_service_u  563 non-null    float64\n",
            " 8   service_cat          563 non-null    object \n",
            "dtypes: bool(1), float64(2), int64(1), object(5)\n",
            "memory usage: 46.4+ KB\n"
          ],
          "name": "stdout"
        }
      ]
    },
    {
      "cell_type": "markdown",
      "metadata": {
        "id": "BRpF-RijRNL_"
      },
      "source": [
        ""
      ]
    },
    {
      "cell_type": "code",
      "metadata": {
        "id": "QPAg3zp7J52J",
        "outputId": "409ecc1f-5eba-4c87-cddc-b3093949d527",
        "colab": {
          "base_uri": "https://localhost:8080/",
          "height": 349
        }
      },
      "source": [
        "combpv = pd.pivot_table(combined_u,index='service_cat', values='dissatisfied')\n",
        "\n",
        "%matplotlib inline\n",
        "combpv.plot(kind='bar')"
      ],
      "execution_count": 32,
      "outputs": [
        {
          "output_type": "execute_result",
          "data": {
            "text/plain": [
              "<matplotlib.axes._subplots.AxesSubplot at 0x7f4cc687dc50>"
            ]
          },
          "metadata": {
            "tags": []
          },
          "execution_count": 32
        },
        {
          "output_type": "display_data",
          "data": {
            "image/png": "[encoded data removed]",
            "text/plain": [
              "<Figure size 432x288 with 1 Axes>"
            ]
          },
          "metadata": {
            "tags": [],
            "needs_background": "light"
          }
        }
      ]
    },
    {
      "cell_type": "markdown",
      "metadata": {
        "id": "Dg1jNB8UOVsd"
      },
      "source": [
        "## % Dissatisfied by Experience Level ##\n",
        "We can see from the chart above that the two longest serving groups leave due to dissatisfaction more often than the two less experienced groups. Both of the older groups are approaching 50% of resignations being due to dissatisfaction. This descrepency may be due to the less experienced groups making changes to their careers early and moving jobs without being dissatisfied, or it may be that the more expeienced groups are dissatisfied with the changes that have occured over the years. Additionally, it may be the case that less experienced employees may be less comfortable reporting their dissatisfaction even after resigning, and the data may have some bias as a result."
      ]
    },
    {
      "cell_type": "code",
      "metadata": {
        "id": "V-OiiOAwglM1",
        "outputId": "ab289b8e-b6ea-4e60-e57e-c02570d6394c",
        "colab": {
          "base_uri": "https://localhost:8080/",
          "height": 319
        }
      },
      "source": [
        "combined_u['age'].value_counts()"
      ],
      "execution_count": 33,
      "outputs": [
        {
          "output_type": "execute_result",
          "data": {
            "text/plain": [
              "51-55            71\n",
              "41-45            48\n",
              "41 – 45          45\n",
              "46-50            42\n",
              "36-40            41\n",
              "46 – 50          39\n",
              "26-30            35\n",
              "21 – 25          33\n",
              "26 – 30          32\n",
              "31 – 35          32\n",
              "36 – 40          32\n",
              "31-35            29\n",
              "21-25            29\n",
              "56 or older      29\n",
              "56-60            26\n",
              "61 or older      23\n",
              "20 or younger    10\n",
              "Name: age, dtype: int64"
            ]
          },
          "metadata": {
            "tags": []
          },
          "execution_count": 33
        }
      ]
    },
    {
      "cell_type": "code",
      "metadata": {
        "id": "AO79Fa88g_0G",
        "outputId": "7bdff27e-7b68-4773-ecf0-52cacf81c886",
        "colab": {
          "base_uri": "https://localhost:8080/",
          "height": 218
        }
      },
      "source": [
        "combined_u['age_u'] = combined_u['age'].astype(str).str.extract(r\"(\\d+)\")\n",
        "combined_u['age_u'] = combined_u['age_u'].astype(float)\n",
        "combined_u['age_u'].value_counts(dropna=False)"
      ],
      "execution_count": 34,
      "outputs": [
        {
          "output_type": "execute_result",
          "data": {
            "text/plain": [
              "41.0    93\n",
              "46.0    81\n",
              "36.0    73\n",
              "51.0    71\n",
              "26.0    67\n",
              "21.0    62\n",
              "31.0    61\n",
              "NaN     55\n",
              "56.0    55\n",
              "61.0    23\n",
              "20.0    10\n",
              "Name: age_u, dtype: int64"
            ]
          },
          "metadata": {
            "tags": []
          },
          "execution_count": 34
        }
      ]
    },
    {
      "cell_type": "code",
      "metadata": {
        "id": "y7z_FtWcLRfo",
        "outputId": "e65b04e6-1b85-4f8a-d2c7-9e4b7acf874e",
        "colab": {
          "base_uri": "https://localhost:8080/",
          "height": 101
        }
      },
      "source": [
        "def age_range(val):\n",
        "  if pd.isnull(val):\n",
        "    return np.nan\n",
        "  elif val > 50:\n",
        "    return 'Over 50'\n",
        "  elif 50 >= val >= 40:\n",
        "    return \"40's\"\n",
        "  elif 40 > val >= 30:\n",
        "    return \"30's\"\n",
        "  else:\n",
        "    return 'Under 30'\n",
        "combined_u['age_cat'] = combined_u['age_u'].apply(age_range)\n",
        "combined_u['age_cat'] = combined_u['age_cat'].fillna(\"40's\")\n",
        "combined_u['age_cat'].value_counts(dropna=False)"
      ],
      "execution_count": 61,
      "outputs": [
        {
          "output_type": "execute_result",
          "data": {
            "text/plain": [
              "40's        229\n",
              "Over 50     149\n",
              "Under 30    139\n",
              "30's        134\n",
              "Name: age_cat, dtype: int64"
            ]
          },
          "metadata": {
            "tags": []
          },
          "execution_count": 61
        }
      ]
    },
    {
      "cell_type": "code",
      "metadata": {
        "id": "bDBD1GvkSHXo",
        "outputId": "e51769e9-f1bf-46f1-f6d1-ff52e5130699",
        "colab": {
          "base_uri": "https://localhost:8080/",
          "height": 349
        }
      },
      "source": [
        "agepv = pd.pivot_table(combined_u, index='age_cat',values='dissatisfied')\n",
        "agepv.plot(kind='bar').set_title('Age and Dissatisfaction')"
      ],
      "execution_count": 62,
      "outputs": [
        {
          "output_type": "execute_result",
          "data": {
            "text/plain": [
              "Text(0.5, 1.0, 'Age and Dissatisfaction')"
            ]
          },
          "metadata": {
            "tags": []
          },
          "execution_count": 62
        },
        {
          "output_type": "display_data",
          "data": {
            "image/png": "[encoded data removed]",
            "text/plain": [
              "<Figure size 432x288 with 1 Axes>"
            ]
          },
          "metadata": {
            "tags": [],
            "needs_background": "light"
          }
        }
      ]
    },
    {
      "cell_type": "markdown",
      "metadata": {
        "id": "re68lkuDllMU"
      },
      "source": [
        "## Dissatisfaction by Age Group ##\n",
        "Above is a chart detailing the percentage of each age group that resigned due to being dissatisfied. These show an upward trend in dissatisfaction with age; that is, older employees tend to resign more due to dissatisfaction than younger employees. Although the difference is somewhat small (only roughly 5%), this may indicate a problem with how the institutes work with older employees. As said above, younger employees may be less likely to report dissatisfaction after resigning."
      ]
    },
    {
      "cell_type": "code",
      "metadata": {
        "id": "-PAi1PaTnC_o",
        "outputId": "e2a2bf7e-05b9-48c3-f4bb-b4c9f590eb39",
        "colab": {
          "base_uri": "https://localhost:8080/",
          "height": 365
        }
      },
      "source": [
        "finalpv=pd.pivot_table(combined_u, index=['service_cat'],columns=['age_cat'],values=['dissatisfied'])\n",
        "finalpv.plot(kind='bar',legend={reversed}).set_title('Dissatisfaction by Age and Experience Level')"
      ],
      "execution_count": 63,
      "outputs": [
        {
          "output_type": "execute_result",
          "data": {
            "text/plain": [
              "Text(0.5, 1.0, 'Dissatisfaction by Age and Experience Level')"
            ]
          },
          "metadata": {
            "tags": []
          },
          "execution_count": 63
        },
        {
          "output_type": "display_data",
          "data": {
            "image/png": "[encoded data removed]",
            "text/plain": [
              "<Figure size 432x288 with 1 Axes>"
            ]
          },
          "metadata": {
            "tags": [],
            "needs_background": "light"
          }
        }
      ]
    },
    {
      "cell_type": "markdown",
      "metadata": {
        "id": "Ttez2rK0nDwX"
      },
      "source": [
        "# Conclusion #\n",
        "The above chart, which combines the data presented in the two previous charts, indicates that the most dissatisfied group are employees in their 30's who have between 7 and 10 years of experience, followed by older veterans. This is similar to our earlier analysis, where we said it may be the case that more experienced and older employees are more likely to be dissatisfied. This may be due to multiple reasons, including:\n",
        "- Changes in the workplace\n",
        "- Age discrimination\n",
        "- Bias in reporting \n",
        "  - Older employees more likely to report dissatisfaction\n",
        "\n",
        "Further analysis with more data may be needed to properly examine the root cause of employee dissatisfaction."
      ]
    }
  ]
}